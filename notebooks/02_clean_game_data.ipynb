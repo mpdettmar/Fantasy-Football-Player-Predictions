{
 "cells": [
  {
   "cell_type": "code",
   "execution_count": 60,
   "metadata": {},
   "outputs": [],
   "source": [
    "import os\n",
    "import pandas as pd"
   ]
  },
  {
   "cell_type": "markdown",
   "metadata": {},
   "source": [
    "#### Players"
   ]
  },
  {
   "cell_type": "code",
   "execution_count": 61,
   "metadata": {
    "scrolled": true
   },
   "outputs": [
    {
     "name": "stdout",
     "output_type": "stream",
     "text": [
      "   G#      Date   Tm home/away  Opp   Result Pos  FantPt\n",
      "0   1   9/12/10  PHI       NaN  GNB  L 20-27  RB    14.2\n",
      "1   2   9/19/10  PHI         @  DET  W 35-32  RB    30.8\n",
      "2   3   9/26/10  PHI         @  JAX   W 28-3  RB     6.1\n",
      "3   4   10/3/10  PHI       NaN  WAS  L 12-17  RB    15.4\n",
      "4   5  10/10/10  PHI         @  SFO  W 27-24  RB    19.8\n",
      "   G#      Date   Tm home/away  Opp   Result Pos  FantPt\n",
      "0   1   9/12/10  NWE       NaN  CIN  W 38-24  QB   22.32\n",
      "1   2   9/19/10  NWE         @  NYJ  L 14-28  QB   11.92\n",
      "2   3   9/26/10  NWE       NaN  BUF  W 38-30  QB   22.68\n",
      "3   4   10/4/10  NWE         @  MIA  W 41-14  QB   10.72\n",
      "4   5  10/17/10  NWE       NaN  BAL  W 23-20  QB   11.78\n"
     ]
    }
   ],
   "source": [
    "# Read in data\n",
    "players = {}\n",
    "path = '../data/data_raw/players'\n",
    "for file in os.listdir(path):\n",
    "    if file.split('.')[1]=='csv':\n",
    "        players[file.split('.')[0]] = pd.read_csv(os.path.join(path,file))\n",
    "\n",
    "for key, value in players.items():\n",
    "    print(value.head())"
   ]
  },
  {
   "cell_type": "code",
   "execution_count": 62,
   "metadata": {},
   "outputs": [
    {
     "name": "stdout",
     "output_type": "stream",
     "text": [
      "        date  home  opp  fantpt\n",
      "0 2010-09-12     1  GNB    14.2\n",
      "1 2010-09-19     0  DET    30.8\n",
      "2 2010-09-26     0  JAX     6.1\n",
      "3 2010-10-03     1  WAS    15.4\n",
      "4 2010-10-10     0  SFO    19.8\n",
      "        date  home  opp  fantpt\n",
      "0 2010-09-12     1  CIN   22.32\n",
      "1 2010-09-19     0  NYJ   11.92\n",
      "2 2010-09-26     1  BUF   22.68\n",
      "3 2010-10-04     0  MIA   10.72\n",
      "4 2010-10-17     1  BAL   11.78\n"
     ]
    }
   ],
   "source": [
    "# define data types; drop columns we don't need; rename columns for ease of uses\n",
    "unneeded_cols = [\n",
    "    'G#', \n",
    "    'Tm', \n",
    "    'Result', \n",
    "    'Pos'\n",
    "]\n",
    "renamed_cols = {'home/away':'home'} # Convert this to boolean\n",
    "\n",
    "for key, value in players.items():\n",
    "    value.drop(unneeded_cols, axis=1, inplace=True)\n",
    "    value.rename(columns=renamed_cols, inplace=True)\n",
    "    value.columns = [col.lower() for col in value.columns]\n",
    "    value['date'] = pd.to_datetime(value['date'], errors='coerce')\n",
    "    value['home'] = [1 if pd.isnull(loc) else 0 for loc in value['home']]\n",
    "    \n",
    "for key, value in players.items():\n",
    "    print(value.head())"
   ]
  },
  {
   "cell_type": "markdown",
   "metadata": {},
   "source": [
    "#### Games"
   ]
  },
  {
   "cell_type": "code",
   "execution_count": 64,
   "metadata": {},
   "outputs": [
    {
     "data": {
      "text/html": [
       "<div>\n",
       "<style scoped>\n",
       "    .dataframe tbody tr th:only-of-type {\n",
       "        vertical-align: middle;\n",
       "    }\n",
       "\n",
       "    .dataframe tbody tr th {\n",
       "        vertical-align: top;\n",
       "    }\n",
       "\n",
       "    .dataframe thead th {\n",
       "        text-align: right;\n",
       "    }\n",
       "</style>\n",
       "<table border=\"1\" class=\"dataframe\">\n",
       "  <thead>\n",
       "    <tr style=\"text-align: right;\">\n",
       "      <th></th>\n",
       "      <th>schedule_date</th>\n",
       "      <th>schedule_season</th>\n",
       "      <th>schedule_week</th>\n",
       "      <th>schedule_playoff</th>\n",
       "      <th>team_home</th>\n",
       "      <th>score_home</th>\n",
       "      <th>score_away</th>\n",
       "      <th>team_away</th>\n",
       "      <th>team_favorite_id</th>\n",
       "      <th>spread_favorite</th>\n",
       "      <th>over_under_line</th>\n",
       "      <th>stadium</th>\n",
       "      <th>stadium_neutral</th>\n",
       "      <th>weather_temperature</th>\n",
       "      <th>weather_wind_mph</th>\n",
       "      <th>weather_humidity</th>\n",
       "      <th>weather_detail</th>\n",
       "    </tr>\n",
       "  </thead>\n",
       "  <tbody>\n",
       "    <tr>\n",
       "      <th>0</th>\n",
       "      <td>09/02/1966</td>\n",
       "      <td>1966</td>\n",
       "      <td>1</td>\n",
       "      <td>False</td>\n",
       "      <td>Miami Dolphins</td>\n",
       "      <td>14.0</td>\n",
       "      <td>23.0</td>\n",
       "      <td>Oakland Raiders</td>\n",
       "      <td>NaN</td>\n",
       "      <td>NaN</td>\n",
       "      <td>NaN</td>\n",
       "      <td>Orange Bowl</td>\n",
       "      <td>False</td>\n",
       "      <td>83.0</td>\n",
       "      <td>6.0</td>\n",
       "      <td>71</td>\n",
       "      <td>NaN</td>\n",
       "    </tr>\n",
       "    <tr>\n",
       "      <th>1</th>\n",
       "      <td>09/03/1966</td>\n",
       "      <td>1966</td>\n",
       "      <td>1</td>\n",
       "      <td>False</td>\n",
       "      <td>Houston Oilers</td>\n",
       "      <td>45.0</td>\n",
       "      <td>7.0</td>\n",
       "      <td>Denver Broncos</td>\n",
       "      <td>NaN</td>\n",
       "      <td>NaN</td>\n",
       "      <td>NaN</td>\n",
       "      <td>Rice Stadium</td>\n",
       "      <td>False</td>\n",
       "      <td>81.0</td>\n",
       "      <td>7.0</td>\n",
       "      <td>70</td>\n",
       "      <td>NaN</td>\n",
       "    </tr>\n",
       "    <tr>\n",
       "      <th>2</th>\n",
       "      <td>09/04/1966</td>\n",
       "      <td>1966</td>\n",
       "      <td>1</td>\n",
       "      <td>False</td>\n",
       "      <td>San Diego Chargers</td>\n",
       "      <td>27.0</td>\n",
       "      <td>7.0</td>\n",
       "      <td>Buffalo Bills</td>\n",
       "      <td>NaN</td>\n",
       "      <td>NaN</td>\n",
       "      <td>NaN</td>\n",
       "      <td>Balboa Stadium</td>\n",
       "      <td>False</td>\n",
       "      <td>70.0</td>\n",
       "      <td>7.0</td>\n",
       "      <td>82</td>\n",
       "      <td>NaN</td>\n",
       "    </tr>\n",
       "    <tr>\n",
       "      <th>3</th>\n",
       "      <td>09/09/1966</td>\n",
       "      <td>1966</td>\n",
       "      <td>2</td>\n",
       "      <td>False</td>\n",
       "      <td>Miami Dolphins</td>\n",
       "      <td>14.0</td>\n",
       "      <td>19.0</td>\n",
       "      <td>New York Jets</td>\n",
       "      <td>NaN</td>\n",
       "      <td>NaN</td>\n",
       "      <td>NaN</td>\n",
       "      <td>Orange Bowl</td>\n",
       "      <td>False</td>\n",
       "      <td>82.0</td>\n",
       "      <td>11.0</td>\n",
       "      <td>78</td>\n",
       "      <td>NaN</td>\n",
       "    </tr>\n",
       "    <tr>\n",
       "      <th>4</th>\n",
       "      <td>09/10/1966</td>\n",
       "      <td>1966</td>\n",
       "      <td>1</td>\n",
       "      <td>False</td>\n",
       "      <td>Green Bay Packers</td>\n",
       "      <td>24.0</td>\n",
       "      <td>3.0</td>\n",
       "      <td>Baltimore Colts</td>\n",
       "      <td>NaN</td>\n",
       "      <td>NaN</td>\n",
       "      <td>NaN</td>\n",
       "      <td>Lambeau Field</td>\n",
       "      <td>False</td>\n",
       "      <td>64.0</td>\n",
       "      <td>8.0</td>\n",
       "      <td>62</td>\n",
       "      <td>NaN</td>\n",
       "    </tr>\n",
       "  </tbody>\n",
       "</table>\n",
       "</div>"
      ],
      "text/plain": [
       "  schedule_date  schedule_season schedule_week  schedule_playoff  \\\n",
       "0    09/02/1966             1966             1             False   \n",
       "1    09/03/1966             1966             1             False   \n",
       "2    09/04/1966             1966             1             False   \n",
       "3    09/09/1966             1966             2             False   \n",
       "4    09/10/1966             1966             1             False   \n",
       "\n",
       "            team_home  score_home  score_away        team_away  \\\n",
       "0      Miami Dolphins        14.0        23.0  Oakland Raiders   \n",
       "1      Houston Oilers        45.0         7.0   Denver Broncos   \n",
       "2  San Diego Chargers        27.0         7.0    Buffalo Bills   \n",
       "3      Miami Dolphins        14.0        19.0    New York Jets   \n",
       "4   Green Bay Packers        24.0         3.0  Baltimore Colts   \n",
       "\n",
       "  team_favorite_id  spread_favorite over_under_line         stadium  \\\n",
       "0              NaN              NaN             NaN     Orange Bowl   \n",
       "1              NaN              NaN             NaN    Rice Stadium   \n",
       "2              NaN              NaN             NaN  Balboa Stadium   \n",
       "3              NaN              NaN             NaN     Orange Bowl   \n",
       "4              NaN              NaN             NaN   Lambeau Field   \n",
       "\n",
       "   stadium_neutral  weather_temperature  weather_wind_mph weather_humidity  \\\n",
       "0            False                 83.0               6.0               71   \n",
       "1            False                 81.0               7.0               70   \n",
       "2            False                 70.0               7.0               82   \n",
       "3            False                 82.0              11.0               78   \n",
       "4            False                 64.0               8.0               62   \n",
       "\n",
       "  weather_detail  \n",
       "0            NaN  \n",
       "1            NaN  \n",
       "2            NaN  \n",
       "3            NaN  \n",
       "4            NaN  "
      ]
     },
     "execution_count": 64,
     "metadata": {},
     "output_type": "execute_result"
    }
   ],
   "source": [
    "games = pd.read_csv('../data/data_raw/games/game_metadata.csv')\n",
    "games.head()"
   ]
  },
  {
   "cell_type": "markdown",
   "metadata": {},
   "source": [
    "We can't directly join these dataframes because 'games' uses full team name while the 'players' dfs use abbreviation. Since we only have two teams, we can just filter on team name and join by date. To scale this in the future, we would want to build out this process so we can directly join."
   ]
  },
  {
   "cell_type": "code",
   "execution_count": 65,
   "metadata": {},
   "outputs": [
    {
     "name": "stdout",
     "output_type": "stream",
     "text": [
      "(843, 17)\n",
      "(869, 17)\n"
     ]
    }
   ],
   "source": [
    "games['schedule_date'] = pd.to_datetime(games['schedule_date'], errors='coerce')\n",
    "\n",
    "games_patriots = games.loc[(games['team_home']=='New England Patriots') | (games['team_away']=='New England Patriots')]\n",
    "games_eagles = games.loc[(games['team_home']=='Philadelphia Eagles') | (games['team_away']=='Philadelphia Eagles')]\n",
    "\n",
    "print(games_patriots.shape)\n",
    "print(games_eagles.shape)"
   ]
  },
  {
   "cell_type": "code",
   "execution_count": 66,
   "metadata": {},
   "outputs": [],
   "source": [
    "for key, value in players.items():\n",
    "    if key =='brady':\n",
    "        players[key] = value.merge(games_patriots, how='inner', left_on='date', right_on='schedule_date')\n",
    "    else:\n",
    "        players[key] = value.merge(games_eagles, how='inner', left_on='date',  right_on='schedule_date')"
   ]
  },
  {
   "cell_type": "code",
   "execution_count": 68,
   "metadata": {},
   "outputs": [
    {
     "data": {
      "text/plain": [
       "Index([u'date', u'home', u'opp', u'fantpt', u'schedule_date',\n",
       "       u'schedule_season', u'schedule_week', u'schedule_playoff', u'team_home',\n",
       "       u'score_home', u'score_away', u'team_away', u'team_favorite_id',\n",
       "       u'spread_favorite', u'over_under_line', u'stadium', u'stadium_neutral',\n",
       "       u'weather_temperature', u'weather_wind_mph', u'weather_humidity',\n",
       "       u'weather_detail'],\n",
       "      dtype='object')"
      ]
     },
     "execution_count": 68,
     "metadata": {},
     "output_type": "execute_result"
    }
   ],
   "source": [
    "players['brady'].columns"
   ]
  },
  {
   "cell_type": "code",
   "execution_count": 70,
   "metadata": {
    "scrolled": false
   },
   "outputs": [
    {
     "name": "stdout",
     "output_type": "stream",
     "text": [
      "        date  home  opp  fantpt  favorite  spread_favorite over_under_line  \\\n",
      "0 2010-09-12     1  GNB    14.2         0             -3.0              48   \n",
      "1 2010-09-19     0  DET    30.8         1             -6.5              41   \n",
      "2 2010-09-26     0  JAX     6.1         1             -3.0              45   \n",
      "3 2010-10-03     1  WAS    15.4         1             -5.0            43.5   \n",
      "4 2010-10-10     0  SFO    19.8         0             -3.0            38.5   \n",
      "\n",
      "   weather_temperature  weather_wind_mph weather_humidity weather_detail  \n",
      "0                 69.0               4.0               72            NaN  \n",
      "1                 72.0               0.0              NaN           DOME  \n",
      "2                 90.0               5.0               67            NaN  \n",
      "3                 63.0               1.0               57            NaN  \n",
      "4                 75.0               1.0               51            NaN  \n",
      "        date  home  opp  fantpt  favorite  spread_favorite over_under_line  \\\n",
      "0 2010-09-12     1  CIN   22.32         1             -5.5              45   \n",
      "1 2010-09-19     0  NYJ   11.92         1             -3.0            39.5   \n",
      "2 2010-09-26     1  BUF   22.68         1            -14.5              43   \n",
      "3 2010-10-04     0  MIA   10.72         1             -1.0              48   \n",
      "4 2010-10-17     1  BAL   11.78         1             -3.0            44.5   \n",
      "\n",
      "   weather_temperature  weather_wind_mph weather_humidity weather_detail  \n",
      "0                 63.0              10.0              NaN            NaN  \n",
      "1                 82.0               6.0               36            NaN  \n",
      "2                 68.0              11.0              NaN            NaN  \n",
      "3                 81.0               1.0               60            NaN  \n",
      "4                 57.0              14.0              NaN            NaN  \n"
     ]
    }
   ],
   "source": [
    "# More column manipulation\n",
    "unneeded_cols = [\n",
    "    'schedule_date', \n",
    "    'schedule_season', \n",
    "    'schedule_week', \n",
    "    'schedule_playoff',\n",
    "    'team_home',\n",
    "    'score_home',\n",
    "    'team_away',\n",
    "    'score_away',\n",
    "    'stadium',\n",
    "    'stadium_neutral'\n",
    "]\n",
    "renamed_cols = {'team_favorite_id':'favorite'}\n",
    "\n",
    "for key, value in players.items():\n",
    "    value.drop(unneeded_cols, axis=1, inplace=True)\n",
    "    value.rename(columns=renamed_cols, inplace=True)\n",
    "    if key=='brady':\n",
    "        team_id = 'NE'\n",
    "    else:\n",
    "        team_id = 'PHI'\n",
    "    value['favorite'] = [1 if code==team_id else 0 for code in value['favorite']]\n",
    "    \n",
    "for key, value in players.items():\n",
    "    print(value.head())"
   ]
  },
  {
   "cell_type": "code",
   "execution_count": 94,
   "metadata": {},
   "outputs": [],
   "source": [
    "# Save data to new folder so we can use it easily\n",
    "for key, value in players.items():\n",
    "    value.to_csv('../data/data_modified/players/{}.csv'.format(key), index=False)"
   ]
  },
  {
   "cell_type": "code",
   "execution_count": null,
   "metadata": {},
   "outputs": [],
   "source": []
  }
 ],
 "metadata": {
  "kernelspec": {
   "display_name": "venv_fantasy",
   "language": "python",
   "name": "venv_fantasy"
  },
  "language_info": {
   "codemirror_mode": {
    "name": "ipython",
    "version": 2
   },
   "file_extension": ".py",
   "mimetype": "text/x-python",
   "name": "python",
   "nbconvert_exporter": "python",
   "pygments_lexer": "ipython2",
   "version": "2.7.15"
  }
 },
 "nbformat": 4,
 "nbformat_minor": 2
}
