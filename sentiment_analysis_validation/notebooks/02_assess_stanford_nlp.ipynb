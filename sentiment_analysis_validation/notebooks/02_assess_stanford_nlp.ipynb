{
 "cells": [
  {
   "cell_type": "code",
   "execution_count": 81,
   "metadata": {},
   "outputs": [],
   "source": [
    "import pandas as pd\n",
    "from pycorenlp import StanfordCoreNLP"
   ]
  },
  {
   "cell_type": "code",
   "execution_count": 82,
   "metadata": {},
   "outputs": [],
   "source": [
    "sample = pd.read_csv('../data/hand_labeled_examples_short.csv', encoding='ISO-8859-1')"
   ]
  },
  {
   "cell_type": "code",
   "execution_count": 83,
   "metadata": {
    "scrolled": true
   },
   "outputs": [
    {
     "name": "stdout",
     "output_type": "stream",
     "text": [
      "CPU times: user 410 ms, sys: 53.9 ms, total: 464 ms\n",
      "Wall time: 7.71 s\n"
     ]
    }
   ],
   "source": [
    "%%time\n",
    "nlp = StanfordCoreNLP('http://localhost:9000')\n",
    "\n",
    "sentiment_mappings = {\n",
    "    'Verypositive': 2,\n",
    "    'Positive': 1,\n",
    "    'Negative': -1,\n",
    "    'Verynegative': -2,\n",
    "    'Neutral': 0\n",
    "}\n",
    "predictions = []\n",
    "\n",
    "for tweet in sample['text']:\n",
    "    parsed_tweet = nlp.annotate(tweet,\n",
    "                       properties={\n",
    "                           'annotators': 'sentiment',\n",
    "                           'outputFormat': 'json',\n",
    "                           'timeout': 10000,\n",
    "                       })\n",
    "    prediction = 0\n",
    "    for s in parsed_tweet[\"sentences\"]:\n",
    "        prediction += sentiment_mappings[s[\"sentiment\"]]\n",
    "    predictions.append(prediction)"
   ]
  },
  {
   "cell_type": "code",
   "execution_count": 84,
   "metadata": {},
   "outputs": [],
   "source": [
    "sample['pred']=[1 if sent<0 else 3 if sent>0 else 2 for sent in predictions]\n",
    "accuracy_baseline = 1.0 * sum(sample['sentiment']==2) / len(sample)\n",
    "accuracy_model = 1.0 * sum(sample['sentiment']==sample['pred']) / len(sample)"
   ]
  },
  {
   "cell_type": "code",
   "execution_count": 85,
   "metadata": {},
   "outputs": [
    {
     "name": "stdout",
     "output_type": "stream",
     "text": [
      "Accuracy of 47.12% when predicting all positives.\n",
      "Model accuracy of 25.00%\n"
     ]
    }
   ],
   "source": [
    "print('Accuracy of {:.2%} when predicting all positives.'.format(accuracy_baseline))\n",
    "print('Model accuracy of {:.2%}'.format(accuracy_model))"
   ]
  },
  {
   "cell_type": "code",
   "execution_count": 87,
   "metadata": {},
   "outputs": [
    {
     "data": {
      "text/html": [
       "<div>\n",
       "<style scoped>\n",
       "    .dataframe tbody tr th:only-of-type {\n",
       "        vertical-align: middle;\n",
       "    }\n",
       "\n",
       "    .dataframe tbody tr th {\n",
       "        vertical-align: top;\n",
       "    }\n",
       "\n",
       "    .dataframe thead th {\n",
       "        text-align: right;\n",
       "    }\n",
       "</style>\n",
       "<table border=\"1\" class=\"dataframe\">\n",
       "  <thead>\n",
       "    <tr style=\"text-align: right;\">\n",
       "      <th></th>\n",
       "      <th>text</th>\n",
       "      <th>sentiment</th>\n",
       "      <th>pred</th>\n",
       "    </tr>\n",
       "  </thead>\n",
       "  <tbody>\n",
       "    <tr>\n",
       "      <th>0</th>\n",
       "      <td>@OkanesonCal but it sure was fun to watch the ...</td>\n",
       "      <td>2</td>\n",
       "      <td>1</td>\n",
       "    </tr>\n",
       "    <tr>\n",
       "      <th>1</th>\n",
       "      <td>Excellent RT @sportspainter: Received a commis...</td>\n",
       "      <td>2</td>\n",
       "      <td>1</td>\n",
       "    </tr>\n",
       "    <tr>\n",
       "      <th>2</th>\n",
       "      <td>RT @imTATTEDdoe: @Shion_Dillinger Eagles Helpe...</td>\n",
       "      <td>2</td>\n",
       "      <td>1</td>\n",
       "    </tr>\n",
       "    <tr>\n",
       "      <th>3</th>\n",
       "      <td>Addai, Brackett, Freeney, Johnson and Session ...</td>\n",
       "      <td>1</td>\n",
       "      <td>1</td>\n",
       "    </tr>\n",
       "    <tr>\n",
       "      <th>4</th>\n",
       "      <td>oh my some big beards in NRL these days #titans</td>\n",
       "      <td>2</td>\n",
       "      <td>2</td>\n",
       "    </tr>\n",
       "    <tr>\n",
       "      <th>...</th>\n",
       "      <td>...</td>\n",
       "      <td>...</td>\n",
       "      <td>...</td>\n",
       "    </tr>\n",
       "    <tr>\n",
       "      <th>99</th>\n",
       "      <td>Yep the #giants seem to have this one in the p...</td>\n",
       "      <td>3</td>\n",
       "      <td>2</td>\n",
       "    </tr>\n",
       "    <tr>\n",
       "      <th>100</th>\n",
       "      <td>RT @JoshLooney: Brandon Flowers is active for ...</td>\n",
       "      <td>2</td>\n",
       "      <td>1</td>\n",
       "    </tr>\n",
       "    <tr>\n",
       "      <th>101</th>\n",
       "      <td>The #Eagles offense has been responsible for j...</td>\n",
       "      <td>1</td>\n",
       "      <td>1</td>\n",
       "    </tr>\n",
       "    <tr>\n",
       "      <th>102</th>\n",
       "      <td>En la fila para pasar a brownsville destino da...</td>\n",
       "      <td>3</td>\n",
       "      <td>1</td>\n",
       "    </tr>\n",
       "    <tr>\n",
       "      <th>103</th>\n",
       "      <td>RT @marccolombo: Thank you to all that have al...</td>\n",
       "      <td>3</td>\n",
       "      <td>1</td>\n",
       "    </tr>\n",
       "  </tbody>\n",
       "</table>\n",
       "<p>104 rows × 3 columns</p>\n",
       "</div>"
      ],
      "text/plain": [
       "                                                  text  sentiment  pred\n",
       "0    @OkanesonCal but it sure was fun to watch the ...          2     1\n",
       "1    Excellent RT @sportspainter: Received a commis...          2     1\n",
       "2    RT @imTATTEDdoe: @Shion_Dillinger Eagles Helpe...          2     1\n",
       "3    Addai, Brackett, Freeney, Johnson and Session ...          1     1\n",
       "4      oh my some big beards in NRL these days #titans          2     2\n",
       "..                                                 ...        ...   ...\n",
       "99   Yep the #giants seem to have this one in the p...          3     2\n",
       "100  RT @JoshLooney: Brandon Flowers is active for ...          2     1\n",
       "101  The #Eagles offense has been responsible for j...          1     1\n",
       "102  En la fila para pasar a brownsville destino da...          3     1\n",
       "103  RT @marccolombo: Thank you to all that have al...          3     1\n",
       "\n",
       "[104 rows x 3 columns]"
      ]
     },
     "execution_count": 87,
     "metadata": {},
     "output_type": "execute_result"
    }
   ],
   "source": [
    "sample"
   ]
  }
 ],
 "metadata": {
  "kernelspec": {
   "display_name": "venv_fantasy",
   "language": "python",
   "name": "venv_fantasy"
  },
  "language_info": {
   "codemirror_mode": {
    "name": "ipython",
    "version": 3
   },
   "file_extension": ".py",
   "mimetype": "text/x-python",
   "name": "python",
   "nbconvert_exporter": "python",
   "pygments_lexer": "ipython3",
   "version": "3.7.3"
  }
 },
 "nbformat": 4,
 "nbformat_minor": 2
}
