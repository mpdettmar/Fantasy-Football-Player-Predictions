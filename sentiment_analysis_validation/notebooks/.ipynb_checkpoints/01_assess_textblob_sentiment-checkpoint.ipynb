{
 "cells": [
  {
   "cell_type": "code",
   "execution_count": 25,
   "metadata": {
    "scrolled": true
   },
   "outputs": [],
   "source": [
    "from joblib import Parallel, delayed\n",
    "import multiprocessing as mp\n",
    "import pandas as pd\n",
    "import random\n",
    "from textblob import TextBlob\n",
    "from textblob.sentiments import NaiveBayesAnalyzer"
   ]
  },
  {
   "cell_type": "code",
   "execution_count": 26,
   "metadata": {},
   "outputs": [
    {
     "data": {
      "text/html": [
       "<div>\n",
       "<style scoped>\n",
       "    .dataframe tbody tr th:only-of-type {\n",
       "        vertical-align: middle;\n",
       "    }\n",
       "\n",
       "    .dataframe tbody tr th {\n",
       "        vertical-align: top;\n",
       "    }\n",
       "\n",
       "    .dataframe thead th {\n",
       "        text-align: right;\n",
       "    }\n",
       "</style>\n",
       "<table border=\"1\" class=\"dataframe\">\n",
       "  <thead>\n",
       "    <tr style=\"text-align: right;\">\n",
       "      <th></th>\n",
       "      <th>text</th>\n",
       "      <th>sentiment</th>\n",
       "    </tr>\n",
       "  </thead>\n",
       "  <tbody>\n",
       "    <tr>\n",
       "      <th>0</th>\n",
       "      <td>@OkanesonCal but it sure was fun to watch the ...</td>\n",
       "      <td>2</td>\n",
       "    </tr>\n",
       "    <tr>\n",
       "      <th>1</th>\n",
       "      <td>Excellent RT @sportspainter: Received a commis...</td>\n",
       "      <td>2</td>\n",
       "    </tr>\n",
       "    <tr>\n",
       "      <th>2</th>\n",
       "      <td>RT @imTATTEDdoe: @Shion_Dillinger Eagles Helpe...</td>\n",
       "      <td>2</td>\n",
       "    </tr>\n",
       "    <tr>\n",
       "      <th>3</th>\n",
       "      <td>Addai, Brackett, Freeney, Johnson and Session ...</td>\n",
       "      <td>1</td>\n",
       "    </tr>\n",
       "    <tr>\n",
       "      <th>4</th>\n",
       "      <td>oh my some big beards in NRL these days #titans</td>\n",
       "      <td>2</td>\n",
       "    </tr>\n",
       "  </tbody>\n",
       "</table>\n",
       "</div>"
      ],
      "text/plain": [
       "                                                text  sentiment\n",
       "0  @OkanesonCal but it sure was fun to watch the ...          2\n",
       "1  Excellent RT @sportspainter: Received a commis...          2\n",
       "2  RT @imTATTEDdoe: @Shion_Dillinger Eagles Helpe...          2\n",
       "3  Addai, Brackett, Freeney, Johnson and Session ...          1\n",
       "4    oh my some big beards in NRL these days #titans          2"
      ]
     },
     "execution_count": 26,
     "metadata": {},
     "output_type": "execute_result"
    }
   ],
   "source": [
    "sample = pd.read_csv('../data/hand_labeled_examples_short.csv', encoding='ISO-8859-1')"
   ]
  },
  {
   "cell_type": "code",
   "execution_count": null,
   "metadata": {},
   "outputs": [
    {
     "name": "stderr",
     "output_type": "stream",
     "text": [
      "[Parallel(n_jobs=8)]: Using backend LokyBackend with 8 concurrent workers.\n"
     ]
    }
   ],
   "source": [
    "%%time\n",
    "# Analyze sentiments in parallel\n",
    "def process_sentiment(tweet):\n",
    "    return TextBlob(tweet, analyzer=NaiveBayesAnalyzer()).sentiment[0]\n",
    "\n",
    "n_cores = mp.cpu_count()\n",
    "sentiments = Parallel(n_jobs=n_cores, verbose=2)(delayed(process_sentiment)(tweet) for tweet in sample['text'])"
   ]
  },
  {
   "cell_type": "code",
   "execution_count": 19,
   "metadata": {},
   "outputs": [],
   "source": [
    "sample['pred']=[1 if sent=='neg' else 3 if sent=='pos' else 2 for sent in sentiments]"
   ]
  },
  {
   "cell_type": "code",
   "execution_count": 20,
   "metadata": {},
   "outputs": [],
   "source": [
    "accuracy_baseline = 1.0 * sum(sample['sentiment']==2) / len(sample)\n",
    "accuracy_model = 1.0 * sum(sample['sentiment']==sample['pred']) / len(sample)"
   ]
  },
  {
   "cell_type": "code",
   "execution_count": 21,
   "metadata": {},
   "outputs": [
    {
     "name": "stdout",
     "output_type": "stream",
     "text": [
      "Accuracy of 48.00% when predicting all positives.\n",
      "Model accuracy of 54.00%\n"
     ]
    }
   ],
   "source": [
    "print('Accuracy of {:.2%} when predicting all positives.'.format(accuracy_baseline))\n",
    "print('Model accuracy of {:.2%}'.format(accuracy_model))"
   ]
  },
  {
   "cell_type": "code",
   "execution_count": 17,
   "metadata": {},
   "outputs": [
    {
     "name": "stderr",
     "output_type": "stream",
     "text": [
      "[Parallel(n_jobs=8)]: Using backend LokyBackend with 8 concurrent workers.\n"
     ]
    },
    {
     "name": "stdout",
     "output_type": "stream",
     "text": [
      "CPU times: user 243 ms, sys: 85.8 ms, total: 329 ms\n",
      "Wall time: 1.88 s\n"
     ]
    },
    {
     "name": "stderr",
     "output_type": "stream",
     "text": [
      "[Parallel(n_jobs=8)]: Done  25 tasks      | elapsed:    1.4s\n",
      "[Parallel(n_jobs=8)]: Done 442 tasks      | elapsed:    1.5s\n",
      "[Parallel(n_jobs=8)]: Done 500 out of 500 | elapsed:    1.5s finished\n"
     ]
    }
   ],
   "source": [
    "%%time\n",
    "# Repeat for pattern analyzer\n",
    "# Analyze sentiments in parallel\n",
    "def process_sentiment(tweet):\n",
    "    return TextBlob(tweet).sentiment.polarity\n",
    "\n",
    "n_cores = mp.cpu_count()\n",
    "sentiments = Parallel(n_jobs=n_cores, verbose=2)(delayed(process_sentiment)(tweet) for tweet in sample['text'])"
   ]
  },
  {
   "cell_type": "code",
   "execution_count": 14,
   "metadata": {},
   "outputs": [],
   "source": [
    "sample['pred']=[0 if sent<0.5 else 2 if sent>=0.5 else 1 for sent in sentiments]"
   ]
  },
  {
   "cell_type": "code",
   "execution_count": 15,
   "metadata": {},
   "outputs": [],
   "source": [
    "accuracy_baseline = 1.0 * sum(sample['sentiment']==2) / len(sample)\n",
    "accuracy_model = 1.0 * sum(sample['sentiment']==sample['pred']) / len(sample)"
   ]
  },
  {
   "cell_type": "code",
   "execution_count": 16,
   "metadata": {},
   "outputs": [
    {
     "name": "stdout",
     "output_type": "stream",
     "text": [
      "Accuracy of 48.00% when predicting all positives.\n",
      "Model accuracy of 56.40%\n"
     ]
    }
   ],
   "source": [
    "print('Accuracy of {:.2%} when predicting all positives.'.format(accuracy_baseline))\n",
    "print('Model accuracy of {:.2%}'.format(accuracy_model))"
   ]
  }
 ],
 "metadata": {
  "kernelspec": {
   "display_name": "venv_fantasy",
   "language": "python",
   "name": "venv_fantasy"
  },
  "language_info": {
   "codemirror_mode": {
    "name": "ipython",
    "version": 3
   },
   "file_extension": ".py",
   "mimetype": "text/x-python",
   "name": "python",
   "nbconvert_exporter": "python",
   "pygments_lexer": "ipython3",
   "version": "3.7.3"
  }
 },
 "nbformat": 4,
 "nbformat_minor": 2
}
