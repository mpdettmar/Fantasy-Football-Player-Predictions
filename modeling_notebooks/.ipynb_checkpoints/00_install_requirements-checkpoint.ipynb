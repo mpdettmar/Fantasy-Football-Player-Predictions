{
 "cells": [
  {
   "cell_type": "code",
   "execution_count": 25,
   "metadata": {
    "scrolled": false
   },
   "outputs": [
    {
     "name": "stdout",
     "output_type": "stream",
     "text": [
      "Running virtualenv with interpreter /usr/local/bin/python3\n",
      "Using base prefix '/usr/local/Cellar/python/3.7.3/Frameworks/Python.framework/Versions/3.7'\n",
      "New python executable in /Users/michaeldettmar/Desktop/cours/Udacity ML/capstone/Fantasy-Football-Player-Predictions/venv_fantasy/bin/python3.7\n",
      "Also creating executable in /Users/michaeldettmar/Desktop/cours/Udacity ML/capstone/Fantasy-Football-Player-Predictions/venv_fantasy/bin/python\n",
      "Installing setuptools, pip, wheel...\n",
      "done.\n"
     ]
    }
   ],
   "source": [
    "!virtualenv -p python3 ../venv_fantasy"
   ]
  },
  {
   "cell_type": "code",
   "execution_count": 26,
   "metadata": {},
   "outputs": [],
   "source": [
    "!source ../venv_fantasy/bin/activate"
   ]
  },
  {
   "cell_type": "code",
   "execution_count": 27,
   "metadata": {},
   "outputs": [
    {
     "name": "stdout",
     "output_type": "stream",
     "text": [
      "Collecting boto3==1.7.84 (from -r ../requirements.txt (line 1))\n",
      "  Using cached https://files.pythonhosted.org/packages/ac/6e/faf7c6c3ae59641c75023fb5dcc8a02c33752ac8ccadf9931e8d8364f2fe/boto3-1.7.84-py2.py3-none-any.whl\n",
      "Collecting botocore==1.10.84 (from -r ../requirements.txt (line 2))\n",
      "  Using cached https://files.pythonhosted.org/packages/01/b7/cb08cd1af2bb0d0dfb393101a93b6ab6fb80f109ab7b37f2f34386c11351/botocore-1.10.84-py2.py3-none-any.whl\n",
      "Requirement already satisfied: bs4==0.0.1 in /usr/local/lib/python3.7/site-packages (from -r ../requirements.txt (line 3)) (0.0.1)\n",
      "Collecting ipykernel==4.10.0 (from -r ../requirements.txt (line 4))\n",
      "  Using cached https://files.pythonhosted.org/packages/22/5e/69b0ae84e0cd7c8d4467e0a7b390c560d8c7642493329b15461b41e20fcc/ipykernel-4.10.0-py3-none-any.whl\n",
      "Collecting ipython==5.8.0 (from -r ../requirements.txt (line 5))\n",
      "  Using cached https://files.pythonhosted.org/packages/3c/01/72cfbf8d195f98cff18e7b160c5c3b5e3fb71ad7be08e630f6ba0793c561/ipython-5.8.0-py3-none-any.whl\n",
      "Requirement already satisfied: ipython-genutils==0.2.0 in /usr/local/lib/python3.7/site-packages (from -r ../requirements.txt (line 6)) (0.2.0)\n",
      "Requirement already satisfied: jupyter-client==5.2.4 in /usr/local/lib/python3.7/site-packages (from -r ../requirements.txt (line 7)) (5.2.4)\n",
      "Collecting jupyter-core==4.5.0 (from -r ../requirements.txt (line 8))\n",
      "  Using cached https://files.pythonhosted.org/packages/e6/25/6ffb0f6e57fa6ef5d2f814377133b361b42a6dd39105f4885a4f1666c2c3/jupyter_core-4.5.0-py2.py3-none-any.whl\n",
      "Collecting matplotlib==2.2.3 (from -r ../requirements.txt (line 9))\n",
      "  Using cached https://files.pythonhosted.org/packages/ee/c4/bf82dc7ee81ac798cd64d8ec0884c07d59f82f45f4faf878a860c1c1d487/matplotlib-2.2.3-cp37-cp37m-macosx_10_6_intel.macosx_10_9_intel.macosx_10_9_x86_64.macosx_10_10_intel.macosx_10_10_x86_64.whl\n",
      "Collecting mccabe==0.6.1 (from -r ../requirements.txt (line 10))\n",
      "  Using cached https://files.pythonhosted.org/packages/87/89/479dc97e18549e21354893e4ee4ef36db1d237534982482c3681ee6e7b57/mccabe-0.6.1-py2.py3-none-any.whl\n",
      "Collecting numpy==1.15.4 (from -r ../requirements.txt (line 11))\n",
      "  Using cached https://files.pythonhosted.org/packages/3d/c3/a69406093c9a780a74964f41cd56b06c0346d686a9b3f392d123a663f5e0/numpy-1.15.4-cp37-cp37m-macosx_10_6_intel.macosx_10_9_intel.macosx_10_9_x86_64.macosx_10_10_intel.macosx_10_10_x86_64.whl\n",
      "Collecting oauth2client==4.1.3 (from -r ../requirements.txt (line 12))\n",
      "  Using cached https://files.pythonhosted.org/packages/95/a9/4f25a14d23f0786b64875b91784607c2277eff25d48f915e39ff0cff505a/oauth2client-4.1.3-py2.py3-none-any.whl\n",
      "Collecting oauthlib==3.0.1 (from -r ../requirements.txt (line 13))\n",
      "  Using cached https://files.pythonhosted.org/packages/16/95/699466b05b72b94a41f662dc9edf87fda4289e3602ecd42d27fcaddf7b56/oauthlib-3.0.1-py2.py3-none-any.whl\n",
      "Collecting pandas (from -r ../requirements.txt (line 14))\n",
      "  Using cached https://files.pythonhosted.org/packages/39/90/c2cac34acd673ceddf5beaa1a8375dc32e0c2399fa09363917148adeefdb/pandas-0.25.2-cp37-cp37m-macosx_10_9_x86_64.whl\n",
      "Collecting pylint==1.9.4 (from -r ../requirements.txt (line 15))\n",
      "  Using cached https://files.pythonhosted.org/packages/59/65/adcffa71fe942313c4d9e9284565d9a9e67798f4771f464e1d5dd58fea88/pylint-1.9.4-py2.py3-none-any.whl\n",
      "Collecting pyOpenSSL==19.0.0 (from -r ../requirements.txt (line 16))\n",
      "  Using cached https://files.pythonhosted.org/packages/01/c8/ceb170d81bd3941cbeb9940fc6cc2ef2ca4288d0ca8929ea4db5905d904d/pyOpenSSL-19.0.0-py2.py3-none-any.whl\n",
      "Collecting scikit-learn==0.20.2 (from -r ../requirements.txt (line 17))\n",
      "  Using cached https://files.pythonhosted.org/packages/11/0f/e2279fee7f9834c63b24fe64515412fd21dd81e82adcf6c79dcc93bb8e6a/scikit_learn-0.20.2-cp37-cp37m-macosx_10_6_intel.macosx_10_9_intel.macosx_10_9_x86_64.macosx_10_10_intel.macosx_10_10_x86_64.whl\n",
      "Collecting scipy==1.2.0 (from -r ../requirements.txt (line 18))\n",
      "  Using cached https://files.pythonhosted.org/packages/c2/7b/370891c7686e598c59890588722c1d1c2b485953c4b127b7b752accbddb6/scipy-1.2.0-cp37-cp37m-macosx_10_6_intel.macosx_10_9_intel.macosx_10_9_x86_64.macosx_10_10_intel.macosx_10_10_x86_64.whl\n",
      "Collecting sportsreference==0.4.6 (from -r ../requirements.txt (line 19))\n",
      "  Using cached https://files.pythonhosted.org/packages/0f/66/ec5813acee092b6a42296fe18dbd75bb27d9d123b3f34dbb1162e5c1a831/sportsreference-0.4.6-py2.py3-none-any.whl\n",
      "Requirement already satisfied: textblob==0.15.3 in /usr/local/lib/python3.7/site-packages (from -r ../requirements.txt (line 20)) (0.15.3)\n",
      "Collecting tweepy==3.8.0 (from -r ../requirements.txt (line 21))\n",
      "  Using cached https://files.pythonhosted.org/packages/36/1b/2bd38043d22ade352fc3d3902cf30ce0e2f4bf285be3b304a2782a767aec/tweepy-3.8.0-py2.py3-none-any.whl\n",
      "Collecting uritemplate==3.0.0 (from -r ../requirements.txt (line 22))\n",
      "  Using cached https://files.pythonhosted.org/packages/e5/7d/9d5a640c4f8bf2c8b1afc015e9a9d8de32e13c9016dcc4b0ec03481fb396/uritemplate-3.0.0-py2.py3-none-any.whl\n",
      "Collecting urllib3==1.24.2 (from -r ../requirements.txt (line 23))\n",
      "  Using cached https://files.pythonhosted.org/packages/df/1c/59cca3abf96f991f2ec3131a4ffe72ae3d9ea1f5894abe8a9c5e3c77cfee/urllib3-1.24.2-py2.py3-none-any.whl\n",
      "Collecting virtualenv==16.2.0 (from -r ../requirements.txt (line 24))\n",
      "  Using cached https://files.pythonhosted.org/packages/6a/d1/e0d142ce7b8a5c76adbfad01d853bca84c7c0240e35577498e20bc2ade7d/virtualenv-16.2.0-py2.py3-none-any.whl\n",
      "Requirement already satisfied: wcwidth==0.1.7 in /usr/local/lib/python3.7/site-packages (from -r ../requirements.txt (line 25)) (0.1.7)\n",
      "Collecting s3transfer<0.2.0,>=0.1.10 (from boto3==1.7.84->-r ../requirements.txt (line 1))\n",
      "  Using cached https://files.pythonhosted.org/packages/d7/14/2a0004d487464d120c9fb85313a75cd3d71a7506955be458eebfe19a6b1d/s3transfer-0.1.13-py2.py3-none-any.whl\n",
      "Collecting jmespath<1.0.0,>=0.7.1 (from boto3==1.7.84->-r ../requirements.txt (line 1))\n",
      "  Using cached https://files.pythonhosted.org/packages/83/94/7179c3832a6d45b266ddb2aac329e101367fbdb11f425f13771d27f225bb/jmespath-0.9.4-py2.py3-none-any.whl\n",
      "Collecting docutils>=0.10 (from botocore==1.10.84->-r ../requirements.txt (line 2))\n",
      "  Using cached https://files.pythonhosted.org/packages/22/cd/a6aa959dca619918ccb55023b4cb151949c64d4d5d55b3f4ffd7eee0c6e8/docutils-0.15.2-py3-none-any.whl\n",
      "Requirement already satisfied: python-dateutil<3.0.0,>=2.1; python_version >= \"2.7\" in /usr/local/lib/python3.7/site-packages (from botocore==1.10.84->-r ../requirements.txt (line 2)) (2.7.5)\n",
      "Requirement already satisfied: beautifulsoup4 in /usr/local/lib/python3.7/site-packages (from bs4==0.0.1->-r ../requirements.txt (line 3)) (4.8.1)\n",
      "Requirement already satisfied: traitlets>=4.1.0 in /usr/local/lib/python3.7/site-packages (from ipykernel==4.10.0->-r ../requirements.txt (line 4)) (4.3.2)\n",
      "Requirement already satisfied: tornado>=4.0 in /usr/local/lib/python3.7/site-packages (from ipykernel==4.10.0->-r ../requirements.txt (line 4)) (5.1.1)\n",
      "Requirement already satisfied: pickleshare in /usr/local/lib/python3.7/site-packages (from ipython==5.8.0->-r ../requirements.txt (line 5)) (0.7.5)\n",
      "Collecting simplegeneric>0.8 (from ipython==5.8.0->-r ../requirements.txt (line 5))\n",
      "Requirement already satisfied: setuptools>=18.5 in /usr/local/lib/python3.7/site-packages (from ipython==5.8.0->-r ../requirements.txt (line 5)) (40.8.0)\n",
      "Requirement already satisfied: appnope; sys_platform == \"darwin\" in /usr/local/lib/python3.7/site-packages (from ipython==5.8.0->-r ../requirements.txt (line 5)) (0.1.0)\n",
      "Collecting prompt-toolkit<2.0.0,>=1.0.4 (from ipython==5.8.0->-r ../requirements.txt (line 5))\n",
      "  Using cached https://files.pythonhosted.org/packages/64/27/5fd61a451d086ad4aa806dc72fe1383d2bc0e74323668672287f616d5d51/prompt_toolkit-1.0.18-py3-none-any.whl\n",
      "Requirement already satisfied: decorator in /usr/local/lib/python3.7/site-packages (from ipython==5.8.0->-r ../requirements.txt (line 5)) (4.3.0)\n",
      "Requirement already satisfied: pexpect; sys_platform != \"win32\" in /usr/local/lib/python3.7/site-packages (from ipython==5.8.0->-r ../requirements.txt (line 5)) (4.6.0)\n",
      "Requirement already satisfied: pygments in /usr/local/lib/python3.7/site-packages (from ipython==5.8.0->-r ../requirements.txt (line 5)) (2.3.1)\n",
      "Requirement already satisfied: pyzmq>=13 in /usr/local/lib/python3.7/site-packages (from jupyter-client==5.2.4->-r ../requirements.txt (line 7)) (17.1.2)\n",
      "Collecting kiwisolver>=1.0.1 (from matplotlib==2.2.3->-r ../requirements.txt (line 9))\n"
     ]
    },
    {
     "name": "stdout",
     "output_type": "stream",
     "text": [
      "  Using cached https://files.pythonhosted.org/packages/df/93/8bc9b52a8846be2b9572aa0a7c881930939b06e4abe1162da6a0430b794f/kiwisolver-1.1.0-cp37-cp37m-macosx_10_6_intel.macosx_10_9_intel.macosx_10_9_x86_64.macosx_10_10_intel.macosx_10_10_x86_64.whl\n",
      "Collecting cycler>=0.10 (from matplotlib==2.2.3->-r ../requirements.txt (line 9))\n",
      "  Using cached https://files.pythonhosted.org/packages/f7/d2/e07d3ebb2bd7af696440ce7e754c59dd546ffe1bbe732c8ab68b9c834e61/cycler-0.10.0-py2.py3-none-any.whl\n",
      "Collecting pyparsing!=2.0.4,!=2.1.2,!=2.1.6,>=2.0.1 (from matplotlib==2.2.3->-r ../requirements.txt (line 9))\n",
      "  Using cached https://files.pythonhosted.org/packages/11/fa/0160cd525c62d7abd076a070ff02b2b94de589f1a9789774f17d7c54058e/pyparsing-2.4.2-py2.py3-none-any.whl\n",
      "Collecting pytz (from matplotlib==2.2.3->-r ../requirements.txt (line 9))\n",
      "  Using cached https://files.pythonhosted.org/packages/e7/f9/f0b53f88060247251bf481fa6ea62cd0d25bf1b11a87888e53ce5b7c8ad2/pytz-2019.3-py2.py3-none-any.whl\n",
      "Requirement already satisfied: six>=1.10 in /usr/local/lib/python3.7/site-packages (from matplotlib==2.2.3->-r ../requirements.txt (line 9)) (1.12.0)\n",
      "Collecting httplib2>=0.9.1 (from oauth2client==4.1.3->-r ../requirements.txt (line 12))\n",
      "  Using cached https://files.pythonhosted.org/packages/d2/84/f97b9efdb17c9b73e133bdbf2b4bfd09cd0be655e36e3ee3c4bec9095048/httplib2-0.14.0-py3-none-any.whl\n",
      "Collecting rsa>=3.1.4 (from oauth2client==4.1.3->-r ../requirements.txt (line 12))\n",
      "  Using cached https://files.pythonhosted.org/packages/02/e5/38518af393f7c214357079ce67a317307936896e961e35450b70fad2a9cf/rsa-4.0-py2.py3-none-any.whl\n",
      "Collecting pyasn1>=0.1.7 (from oauth2client==4.1.3->-r ../requirements.txt (line 12))\n",
      "  Using cached https://files.pythonhosted.org/packages/a1/71/8f0d444e3a74e5640a3d5d967c1c6b015da9c655f35b2d308a55d907a517/pyasn1-0.4.7-py2.py3-none-any.whl\n",
      "Collecting pyasn1-modules>=0.0.5 (from oauth2client==4.1.3->-r ../requirements.txt (line 12))\n",
      "  Using cached https://files.pythonhosted.org/packages/52/50/bb4cefca37da63a0c52218ba2cb1b1c36110d84dcbae8aa48cd67c5e95c2/pyasn1_modules-0.2.7-py2.py3-none-any.whl\n",
      "Collecting astroid<2.0,>=1.6 (from pylint==1.9.4->-r ../requirements.txt (line 15))\n",
      "  Using cached https://files.pythonhosted.org/packages/8b/29/0f7ec6fbf28a158886b7de49aee3a77a8a47a7e24c60e9fd6ec98ee2ec02/astroid-1.6.6-py2.py3-none-any.whl\n",
      "Collecting isort>=4.2.5 (from pylint==1.9.4->-r ../requirements.txt (line 15))\n",
      "  Using cached https://files.pythonhosted.org/packages/e5/b0/c121fd1fa3419ea9bfd55c7f9c4fedfec5143208d8c7ad3ce3db6c623c21/isort-4.3.21-py2.py3-none-any.whl\n",
      "Collecting cryptography>=2.3 (from pyOpenSSL==19.0.0->-r ../requirements.txt (line 16))\n",
      "  Using cached https://files.pythonhosted.org/packages/6b/4a/ce93178469d4460d6b3a5e648fc1a2f426030f3d30a12d7ed4df73d044de/cryptography-2.8-cp34-abi3-macosx_10_6_intel.whl\n",
      "Collecting pyquery>=1.4.0 (from sportsreference==0.4.6->-r ../requirements.txt (line 19))\n",
      "  Using cached https://files.pythonhosted.org/packages/09/c7/ce8c9c37ab8ff8337faad3335c088d60bed4a35a4bed33a64f0e64fbcf29/pyquery-1.4.0-py2.py3-none-any.whl\n",
      "Requirement already satisfied: requests>=2.18.4 in /usr/local/lib/python3.7/site-packages (from sportsreference==0.4.6->-r ../requirements.txt (line 19)) (2.22.0)\n",
      "Requirement already satisfied: nltk>=3.1 in /usr/local/lib/python3.7/site-packages (from textblob==0.15.3->-r ../requirements.txt (line 20)) (3.4.5)\n",
      "Collecting PySocks>=1.5.7 (from tweepy==3.8.0->-r ../requirements.txt (line 21))\n",
      "  Using cached https://files.pythonhosted.org/packages/8d/59/b4572118e098ac8e46e399a1dd0f2d85403ce8bbaad9ec79373ed6badaf9/PySocks-1.7.1-py3-none-any.whl\n",
      "Collecting requests-oauthlib>=0.7.0 (from tweepy==3.8.0->-r ../requirements.txt (line 21))\n",
      "  Using cached https://files.pythonhosted.org/packages/c2/e2/9fd03d55ffb70fe51f587f20bcf407a6927eb121de86928b34d162f0b1ac/requests_oauthlib-1.2.0-py2.py3-none-any.whl\n",
      "Requirement already satisfied: soupsieve>=1.2 in /usr/local/lib/python3.7/site-packages (from beautifulsoup4->bs4==0.0.1->-r ../requirements.txt (line 3)) (1.9.4)\n",
      "Requirement already satisfied: ptyprocess>=0.5 in /usr/local/lib/python3.7/site-packages (from pexpect; sys_platform != \"win32\"->ipython==5.8.0->-r ../requirements.txt (line 5)) (0.6.0)\n",
      "Collecting wrapt (from astroid<2.0,>=1.6->pylint==1.9.4->-r ../requirements.txt (line 15))\n",
      "Collecting lazy-object-proxy (from astroid<2.0,>=1.6->pylint==1.9.4->-r ../requirements.txt (line 15))\n",
      "  Using cached https://files.pythonhosted.org/packages/b0/19/33c3546fd031d47086c6a66c36cf0d768c78f4428a77856780d57600d4c9/lazy_object_proxy-1.4.2-cp37-cp37m-macosx_10_13_x86_64.whl\n",
      "Requirement already satisfied: cffi!=1.11.3,>=1.8 in /usr/local/lib/python3.7/site-packages (from cryptography>=2.3->pyOpenSSL==19.0.0->-r ../requirements.txt (line 16)) (1.13.0)\n",
      "Collecting cssselect>0.7.9 (from pyquery>=1.4.0->sportsreference==0.4.6->-r ../requirements.txt (line 19))\n",
      "  Using cached https://files.pythonhosted.org/packages/3b/d4/3b5c17f00cce85b9a1e6f91096e1cc8e8ede2e1be8e96b87ce1ed09e92c5/cssselect-1.1.0-py2.py3-none-any.whl\n",
      "Requirement already satisfied: lxml>=2.1 in /usr/local/lib/python3.7/site-packages (from pyquery>=1.4.0->sportsreference==0.4.6->-r ../requirements.txt (line 19)) (4.4.1)\n",
      "Requirement already satisfied: idna<2.9,>=2.5 in /usr/local/lib/python3.7/site-packages (from requests>=2.18.4->sportsreference==0.4.6->-r ../requirements.txt (line 19)) (2.8)\n",
      "Requirement already satisfied: chardet<3.1.0,>=3.0.2 in /usr/local/lib/python3.7/site-packages (from requests>=2.18.4->sportsreference==0.4.6->-r ../requirements.txt (line 19)) (3.0.4)\n",
      "Requirement already satisfied: certifi>=2017.4.17 in /usr/local/lib/python3.7/site-packages (from requests>=2.18.4->sportsreference==0.4.6->-r ../requirements.txt (line 19)) (2019.9.11)\n",
      "Requirement already satisfied: pycparser in /usr/local/lib/python3.7/site-packages (from cffi!=1.11.3,>=1.8->cryptography>=2.3->pyOpenSSL==19.0.0->-r ../requirements.txt (line 16)) (2.19)\n",
      "\u001b[31mjupyter-console 6.0.0 has requirement prompt-toolkit<2.1.0,>=2.0.0, but you'll have prompt-toolkit 1.0.18 which is incompatible.\u001b[0m\n",
      "Installing collected packages: docutils, jmespath, botocore, s3transfer, boto3, simplegeneric, prompt-toolkit, ipython, ipykernel, jupyter-core, kiwisolver, cycler, numpy, pyparsing, pytz, matplotlib, mccabe, httplib2, pyasn1, rsa, pyasn1-modules, oauth2client, oauthlib, pandas, wrapt, lazy-object-proxy, astroid, isort, pylint, cryptography, pyOpenSSL, scipy, scikit-learn, cssselect, pyquery, sportsreference, PySocks, requests-oauthlib, tweepy, uritemplate, urllib3, virtualenv\n",
      "  Found existing installation: prompt-toolkit 2.0.7\n",
      "    Uninstalling prompt-toolkit-2.0.7:\n",
      "      Successfully uninstalled prompt-toolkit-2.0.7\n",
      "  Found existing installation: ipython 7.2.0\n",
      "    Uninstalling ipython-7.2.0:\n",
      "      Successfully uninstalled ipython-7.2.0\n",
      "  Found existing installation: ipykernel 5.1.0\n",
      "    Uninstalling ipykernel-5.1.0:\n",
      "      Successfully uninstalled ipykernel-5.1.0\n",
      "  Found existing installation: jupyter-core 4.4.0\n",
      "    Uninstalling jupyter-core-4.4.0:\n",
      "      Successfully uninstalled jupyter-core-4.4.0\n",
      "  Found existing installation: urllib3 1.25.6\n",
      "    Uninstalling urllib3-1.25.6:\n",
      "      Successfully uninstalled urllib3-1.25.6\n",
      "Successfully installed PySocks-1.7.1 astroid-1.6.6 boto3-1.7.84 botocore-1.10.84 cryptography-2.8 cssselect-1.1.0 cycler-0.10.0 docutils-0.15.2 httplib2-0.14.0 ipykernel-4.10.0 ipython-5.8.0 isort-4.3.21 jmespath-0.9.4 jupyter-core-4.5.0 kiwisolver-1.1.0 lazy-object-proxy-1.4.2 matplotlib-2.2.3 mccabe-0.6.1 numpy-1.15.4 oauth2client-4.1.3 oauthlib-3.0.1 pandas-0.25.2 prompt-toolkit-1.0.18 pyOpenSSL-19.0.0 pyasn1-0.4.7 pyasn1-modules-0.2.7 pylint-1.9.4 pyparsing-2.4.2 pyquery-1.4.0 pytz-2019.3 requests-oauthlib-1.2.0 rsa-4.0 s3transfer-0.1.13 scikit-learn-0.20.2 scipy-1.2.0 simplegeneric-0.8.1 sportsreference-0.4.6 tweepy-3.8.0 uritemplate-3.0.0 urllib3-1.24.2 virtualenv-16.2.0 wrapt-1.11.2\n"
     ]
    }
   ],
   "source": [
    "!pip3 install -r ../requirements.txt"
   ]
  },
  {
   "cell_type": "code",
   "execution_count": 28,
   "metadata": {},
   "outputs": [
    {
     "name": "stdout",
     "output_type": "stream",
     "text": [
      "[nltk_data] Downloading package brown to\n",
      "[nltk_data]     /Users/michaeldettmar/nltk_data...\n",
      "[nltk_data]   Package brown is already up-to-date!\n",
      "[nltk_data] Downloading package punkt to\n",
      "[nltk_data]     /Users/michaeldettmar/nltk_data...\n",
      "[nltk_data]   Package punkt is already up-to-date!\n",
      "[nltk_data] Downloading package wordnet to\n",
      "[nltk_data]     /Users/michaeldettmar/nltk_data...\n",
      "[nltk_data]   Package wordnet is already up-to-date!\n",
      "[nltk_data] Downloading package averaged_perceptron_tagger to\n",
      "[nltk_data]     /Users/michaeldettmar/nltk_data...\n",
      "[nltk_data]   Package averaged_perceptron_tagger is already up-to-\n",
      "[nltk_data]       date!\n",
      "[nltk_data] Downloading package conll2000 to\n",
      "[nltk_data]     /Users/michaeldettmar/nltk_data...\n",
      "[nltk_data]   Package conll2000 is already up-to-date!\n",
      "[nltk_data] Downloading package movie_reviews to\n",
      "[nltk_data]     /Users/michaeldettmar/nltk_data...\n",
      "[nltk_data]   Package movie_reviews is already up-to-date!\n",
      "Finished.\n"
     ]
    }
   ],
   "source": [
    "# Download corpora for sentiment analysis\n",
    "!python3 -m textblob.download_corpora"
   ]
  },
  {
   "cell_type": "code",
   "execution_count": 29,
   "metadata": {
    "scrolled": false
   },
   "outputs": [
    {
     "name": "stdout",
     "output_type": "stream",
     "text": [
      "Installed kernelspec venv_fantasy in /Users/michaeldettmar/Library/Jupyter/kernels/venv_fantasy\r\n"
     ]
    }
   ],
   "source": [
    "!ipython kernel install --user --name=venv_fantasy"
   ]
  }
 ],
 "metadata": {
  "kernelspec": {
   "display_name": "Python 3",
   "language": "python",
   "name": "python3"
  },
  "language_info": {
   "codemirror_mode": {
    "name": "ipython",
    "version": 3
   },
   "file_extension": ".py",
   "mimetype": "text/x-python",
   "name": "python",
   "nbconvert_exporter": "python",
   "pygments_lexer": "ipython3",
   "version": "3.7.3"
  }
 },
 "nbformat": 4,
 "nbformat_minor": 2
}
