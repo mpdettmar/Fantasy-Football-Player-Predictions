{
 "cells": [
  {
   "cell_type": "markdown",
   "metadata": {},
   "source": [
    "Use kernal conda_tensorflow_p36"
   ]
  },
  {
   "cell_type": "code",
   "execution_count": 286,
   "metadata": {},
   "outputs": [],
   "source": [
    "import matplotlib.pyplot as plt\n",
    "import numpy as np\n",
    "import pandas as pd\n",
    "from sklearn.preprocessing import MinMaxScaler\n",
    "from sklearn.metrics import mean_squared_error, mean_absolute_error\n",
    "from keras.models import Sequential\n",
    "from keras.layers import Dense, Dropout, LSTM\n",
    "\n",
    "plt.style.use('ggplot')"
   ]
  },
  {
   "cell_type": "markdown",
   "metadata": {},
   "source": [
    "## Tom Brady"
   ]
  },
  {
   "cell_type": "code",
   "execution_count": 302,
   "metadata": {},
   "outputs": [],
   "source": [
    "# Read in data\n",
    "brady = pd.read_csv('../data/data_final/final/features_raw/brady.csv')\n",
    "\n",
    "# Select features for RNN, along with target. Specifically, remove averages.\n",
    "features = [\n",
    "    'target',\n",
    "    'player_home',\n",
    "    'betting_over_under_line',\n",
    "    'betting_spread',\n",
    "    'weather_temperature',\n",
    "    'weather_wind_mph',\n",
    "    'weather_humidity',\n",
    "    'weather_inclement',\n",
    "    'defense_fumbles_forced_moving_avg_1',\n",
    "    'defense_interceptions_moving_avg_1',\n",
    "    'defense_pass_yards_allowed_moving_avg_1',\n",
    "    'defense_rush_yards_allowed_moving_avg_1',\n",
    "    'defense_sacks_moving_avg_1',\n",
    "    'defense_points_allowed_moving_avg_1',\n",
    "    'player_fantpt_moving_avg_1'\n",
    "]\n",
    "\n",
    "brady = brady.loc[:, features]"
   ]
  },
  {
   "cell_type": "code",
   "execution_count": 303,
   "metadata": {},
   "outputs": [],
   "source": [
    "# For each column in X, replace NaNs with training set naive Bayes\n",
    "def replace_nans_mean(df, split):\n",
    "    df_cp = df.copy()\n",
    "    for col in df_cp.columns:\n",
    "        naive_estimate = df_cp.loc[:split, col].mean()\n",
    "        df_cp.loc[pd.isnull(df_cp[col]), col] = naive_estimate\n",
    "        \n",
    "    return df_cp\n",
    "        \n",
    "brady = replace_nans_mean(brady, 32)"
   ]
  },
  {
   "cell_type": "code",
   "execution_count": 304,
   "metadata": {},
   "outputs": [],
   "source": [
    "# Scale Features\n",
    "scaler = MinMaxScaler()\n",
    "scaler.fit(brady)\n",
    "brady = scaler.transform(brady)\n",
    "\n",
    "# Split into X and y\n",
    "X, y = brady[:,1:], brady[:,0]\n",
    "\n",
    "# Make training and test sets\n",
    "X_train, X_test, y_train, y_test = X[:32,:], X[32:,:], y[:32], y[32:]"
   ]
  },
  {
   "cell_type": "code",
   "execution_count": 305,
   "metadata": {},
   "outputs": [],
   "source": [
    "# Reshape data to RNN's expected format\n",
    "X_train = X_train.reshape((X_train.shape[0], 1, X_train.shape[1]))\n",
    "X_test = X_test.reshape((X_test.shape[0], 1, X_test.shape[1]))"
   ]
  },
  {
   "cell_type": "code",
   "execution_count": 308,
   "metadata": {},
   "outputs": [],
   "source": [
    "# Build network\n",
    "model = Sequential()\n",
    "model.add(LSTM(50, input_shape=(X_train.shape[1], X_train.shape[2])))\n",
    "model.add(Dropout(0.1))\n",
    "model.add(Dense(1))\n",
    "model.compile(loss='mae', optimizer='adam')"
   ]
  },
  {
   "cell_type": "code",
   "execution_count": 309,
   "metadata": {
    "scrolled": true
   },
   "outputs": [
    {
     "name": "stdout",
     "output_type": "stream",
     "text": [
      "Train on 32 samples, validate on 15 samples\n",
      "Epoch 1/50\n",
      " - 5s - loss: 0.3623 - val_loss: 0.3423\n",
      "Epoch 2/50\n",
      " - 0s - loss: 0.2897 - val_loss: 0.2672\n",
      "Epoch 3/50\n",
      " - 0s - loss: 0.2436 - val_loss: 0.2257\n",
      "Epoch 4/50\n",
      " - 0s - loss: 0.2424 - val_loss: 0.2167\n",
      "Epoch 5/50\n",
      " - 0s - loss: 0.2378 - val_loss: 0.2182\n",
      "Epoch 6/50\n",
      " - 0s - loss: 0.2333 - val_loss: 0.2218\n",
      "Epoch 7/50\n",
      " - 0s - loss: 0.2352 - val_loss: 0.2240\n",
      "Epoch 8/50\n",
      " - 0s - loss: 0.2296 - val_loss: 0.2239\n",
      "Epoch 9/50\n",
      " - 0s - loss: 0.2337 - val_loss: 0.2215\n",
      "Epoch 10/50\n",
      " - 0s - loss: 0.2294 - val_loss: 0.2210\n",
      "Epoch 11/50\n",
      " - 0s - loss: 0.2281 - val_loss: 0.2190\n",
      "Epoch 12/50\n",
      " - 0s - loss: 0.2253 - val_loss: 0.2148\n",
      "Epoch 13/50\n",
      " - 0s - loss: 0.2129 - val_loss: 0.2150\n",
      "Epoch 14/50\n",
      " - 0s - loss: 0.2235 - val_loss: 0.2173\n",
      "Epoch 15/50\n",
      " - 0s - loss: 0.2165 - val_loss: 0.2197\n",
      "Epoch 16/50\n",
      " - 0s - loss: 0.2189 - val_loss: 0.2203\n",
      "Epoch 17/50\n",
      " - 0s - loss: 0.2229 - val_loss: 0.2218\n",
      "Epoch 18/50\n",
      " - 0s - loss: 0.2158 - val_loss: 0.2216\n",
      "Epoch 19/50\n",
      " - 0s - loss: 0.2222 - val_loss: 0.2178\n",
      "Epoch 20/50\n",
      " - 0s - loss: 0.2135 - val_loss: 0.2181\n",
      "Epoch 21/50\n",
      " - 0s - loss: 0.2218 - val_loss: 0.2177\n",
      "Epoch 22/50\n",
      " - 0s - loss: 0.2022 - val_loss: 0.2198\n",
      "Epoch 23/50\n",
      " - 0s - loss: 0.2124 - val_loss: 0.2198\n",
      "Epoch 24/50\n",
      " - 0s - loss: 0.2066 - val_loss: 0.2211\n",
      "Epoch 25/50\n",
      " - 0s - loss: 0.2046 - val_loss: 0.2240\n",
      "Epoch 26/50\n",
      " - 0s - loss: 0.1994 - val_loss: 0.2241\n",
      "Epoch 27/50\n",
      " - 0s - loss: 0.2078 - val_loss: 0.2212\n",
      "Epoch 28/50\n",
      " - 0s - loss: 0.2014 - val_loss: 0.2202\n",
      "Epoch 29/50\n",
      " - 0s - loss: 0.2068 - val_loss: 0.2229\n",
      "Epoch 30/50\n",
      " - 0s - loss: 0.2039 - val_loss: 0.2239\n",
      "Epoch 31/50\n",
      " - 0s - loss: 0.2186 - val_loss: 0.2206\n",
      "Epoch 32/50\n",
      " - 0s - loss: 0.1957 - val_loss: 0.2206\n",
      "Epoch 33/50\n",
      " - 0s - loss: 0.2006 - val_loss: 0.2216\n",
      "Epoch 34/50\n",
      " - 0s - loss: 0.2002 - val_loss: 0.2247\n",
      "Epoch 35/50\n",
      " - 0s - loss: 0.1985 - val_loss: 0.2267\n",
      "Epoch 36/50\n",
      " - 0s - loss: 0.1980 - val_loss: 0.2227\n",
      "Epoch 37/50\n",
      " - 0s - loss: 0.1947 - val_loss: 0.2224\n",
      "Epoch 38/50\n",
      " - 0s - loss: 0.1974 - val_loss: 0.2248\n",
      "Epoch 39/50\n",
      " - 0s - loss: 0.1974 - val_loss: 0.2279\n",
      "Epoch 40/50\n",
      " - 0s - loss: 0.2037 - val_loss: 0.2293\n",
      "Epoch 41/50\n",
      " - 0s - loss: 0.1994 - val_loss: 0.2289\n",
      "Epoch 42/50\n",
      " - 0s - loss: 0.2031 - val_loss: 0.2244\n",
      "Epoch 43/50\n",
      " - 0s - loss: 0.1908 - val_loss: 0.2248\n",
      "Epoch 44/50\n",
      " - 0s - loss: 0.1949 - val_loss: 0.2251\n",
      "Epoch 45/50\n",
      " - 0s - loss: 0.1919 - val_loss: 0.2288\n",
      "Epoch 46/50\n",
      " - 0s - loss: 0.1912 - val_loss: 0.2328\n",
      "Epoch 47/50\n",
      " - 0s - loss: 0.1988 - val_loss: 0.2345\n",
      "Epoch 48/50\n",
      " - 0s - loss: 0.1997 - val_loss: 0.2300\n",
      "Epoch 49/50\n",
      " - 0s - loss: 0.2022 - val_loss: 0.2277\n",
      "Epoch 50/50\n",
      " - 0s - loss: 0.1922 - val_loss: 0.2280\n"
     ]
    }
   ],
   "source": [
    "# Fit network\n",
    "lstm_model = model.fit(X_train, y_train, epochs=50, batch_size=5, validation_data=(X_test, y_test), verbose=2, shuffle=False)\n"
   ]
  },
  {
   "cell_type": "code",
   "execution_count": 310,
   "metadata": {},
   "outputs": [
    {
     "data": {
      "image/png": "[encoded data removed]",
      "text/plain": [
       "<Figure size 720x360 with 1 Axes>"
      ]
     },
     "metadata": {},
     "output_type": "display_data"
    }
   ],
   "source": [
    "plt.rcParams['figure.figsize'] = (10, 5)\n",
    "\n",
    "plt.plot(history.history['loss'], label='train')\n",
    "plt.plot(history.history['val_loss'], label='test')\n",
    "plt.legend()\n",
    "plt.xlabel('epoch')\n",
    "plt.ylabel('loss')\n",
    "plt.show()"
   ]
  },
  {
   "cell_type": "code",
   "execution_count": 311,
   "metadata": {},
   "outputs": [],
   "source": [
    "# Make predictions for test set\n",
    "preds = model.predict(X_test)\n",
    "X_test_orig = X_test.reshape((X_test.shape[0], X_test.shape[2]))"
   ]
  },
  {
   "cell_type": "code",
   "execution_count": 312,
   "metadata": {},
   "outputs": [],
   "source": [
    "# Invert scaling for preds\n",
    "preds_inv = np.concatenate((preds, X_test_orig), axis=1)\n",
    "preds_inv = scaler.inverse_transform(preds_inv)\n",
    "preds_inv = preds_inv[:,0]"
   ]
  },
  {
   "cell_type": "code",
   "execution_count": 313,
   "metadata": {},
   "outputs": [],
   "source": [
    "# Invert scaling for actuals\n",
    "y_test_orig = y_test.reshape((len(y_test), 1))\n",
    "y_inv = np.concatenate((y_test_orig, X_test_orig), axis=1)\n",
    "y_inv = scaler.inverse_transform(y_inv)\n",
    "y_inv = y_inv[:,0]"
   ]
  },
  {
   "cell_type": "code",
   "execution_count": 314,
   "metadata": {},
   "outputs": [
    {
     "name": "stdout",
     "output_type": "stream",
     "text": [
      "RMSE: 6.60\n",
      "MAE: 5.59\n"
     ]
    }
   ],
   "source": [
    "# Calculate RMSE and MAE\n",
    "rmse = np.sqrt(mean_squared_error(y_inv, preds_inv))\n",
    "mae = mean_absolute_error(y_inv, preds_inv)\n",
    "print('RMSE: {:.2f}'.format(rmse))\n",
    "print('MAE: {:.2f}'.format(mae))"
   ]
  },
  {
   "cell_type": "code",
   "execution_count": 315,
   "metadata": {},
   "outputs": [
    {
     "data": {
      "text/plain": [
       "Text(0.5, 1.0, 'Tom Brady Fantasy Points 2012, Predicted vs Actual')"
      ]
     },
     "execution_count": 315,
     "metadata": {},
     "output_type": "execute_result"
    },
    {
     "data": {
      "image/png": "[encoded data removed]",
      "text/plain": [
       "<Figure size 720x360 with 1 Axes>"
      ]
     },
     "metadata": {},
     "output_type": "display_data"
    }
   ],
   "source": [
    "plt.rcParams['figure.figsize'] = (10, 5)\n",
    "fig, ax = plt.subplots()\n",
    "bar1 = ax.bar(x = np.arange(0, len(y_inv)) - .25, height=y_inv, width=.4, alpha = 0.8, label='actual')\n",
    "bar2 = ax.bar(x = np.arange(0, len(preds_inv)) + .25, height=preds_inv, width=.4, alpha = 0.8, label='predicted')\n",
    "ax.legend()\n",
    "plt.xlabel('Week (2012)')\n",
    "plt.ylabel('Fantasy Points')\n",
    "plt.title('Tom Brady Fantasy Points 2012, Predicted vs Actual')"
   ]
  },
  {
   "cell_type": "markdown",
   "metadata": {},
   "source": [
    "##### Iterative Training"
   ]
  },
  {
   "cell_type": "code",
   "execution_count": 326,
   "metadata": {},
   "outputs": [],
   "source": [
    "# Rebuild network for iterative training - stateful model with one batch\n",
    "model = Sequential()\n",
    "model.add(LSTM(50, batch_input_shape=(1, X_train.shape[1], X_train.shape[2]), stateful=True))\n",
    "model.add(Dropout(0.1))\n",
    "model.add(Dense(1))\n",
    "model.compile(loss='mse', optimizer='adam')\n",
    "\n",
    "for i in range(50):\n",
    "    model.fit(X_train, y_train, epochs=1, batch_size=1, verbose=0, shuffle=False)\n",
    "    model.reset_states()"
   ]
  },
  {
   "cell_type": "code",
   "execution_count": 327,
   "metadata": {},
   "outputs": [],
   "source": [
    "preds = []\n",
    "for i in range(len(y_test)):\n",
    "    X_test_formatted = X_test[i].reshape(X_test[i].shape[0], 1, X_test[i].shape[1])\n",
    "    preds.append(model.predict(X_test_formatted)[0])\n",
    "    X_train_upd = np.append(X_train, X_test_formatted, axis=0)\n",
    "    y_train_upd = np.append(y_train, y_test[i])\n",
    "    model.reset_states()\n",
    "    model.fit(X_train_upd, y_train_upd, epochs=5, batch_size=1, verbose=0, shuffle=False)"
   ]
  },
  {
   "cell_type": "code",
   "execution_count": 328,
   "metadata": {},
   "outputs": [
    {
     "name": "stdout",
     "output_type": "stream",
     "text": [
      "RMSE: 6.78\n",
      "MAE: 5.78\n"
     ]
    }
   ],
   "source": [
    "preds_inv = np.concatenate((preds, X_test_orig), axis=1)\n",
    "preds_inv = scaler.inverse_transform(preds_inv)\n",
    "preds_inv = preds_inv[:,0]\n",
    "\n",
    "rmse = np.sqrt(mean_squared_error(y_inv, preds_inv))\n",
    "mae = mean_absolute_error(y_inv, preds_inv)\n",
    "print('RMSE: {:.2f}'.format(rmse))\n",
    "print('MAE: {:.2f}'.format(mae))"
   ]
  },
  {
   "cell_type": "code",
   "execution_count": 329,
   "metadata": {},
   "outputs": [
    {
     "data": {
      "text/plain": [
       "Text(0.5, 1.0, 'Tom Brady Fantasy Points 2012, Predicted vs Actual (Iterative Training)')"
      ]
     },
     "execution_count": 329,
     "metadata": {},
     "output_type": "execute_result"
    },
    {
     "data": {
      "image/png": "[encoded data removed]",
      "text/plain": [
       "<Figure size 720x360 with 1 Axes>"
      ]
     },
     "metadata": {},
     "output_type": "display_data"
    }
   ],
   "source": [
    "plt.rcParams['figure.figsize'] = (10, 5)\n",
    "fig, ax = plt.subplots()\n",
    "bar1 = ax.bar(x = np.arange(0, len(y_inv)) - .25, height=y_inv, width=.4, alpha = 0.8, label='actual')\n",
    "bar2 = ax.bar(x = np.arange(0, len(preds_inv)) + .25, height=preds_inv, width=.4, alpha = 0.8, label='predicted')\n",
    "ax.legend()\n",
    "plt.xlabel('Week (2012)')\n",
    "plt.ylabel('Fantasy Points')\n",
    "plt.title('Tom Brady Fantasy Points 2012, Predicted vs Actual (Iterative Training)')"
   ]
  }
 ],
 "metadata": {
  "kernelspec": {
   "display_name": "conda_tensorflow_p36",
   "language": "python",
   "name": "conda_tensorflow_p36"
  },
  "language_info": {
   "codemirror_mode": {
    "name": "ipython",
    "version": 3
   },
   "file_extension": ".py",
   "mimetype": "text/x-python",
   "name": "python",
   "nbconvert_exporter": "python",
   "pygments_lexer": "ipython3",
   "version": "3.6.5"
  }
 },
 "nbformat": 4,
 "nbformat_minor": 2
}
