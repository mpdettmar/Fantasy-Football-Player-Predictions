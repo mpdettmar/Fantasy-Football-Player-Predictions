{
 "cells": [
  {
   "cell_type": "markdown",
   "metadata": {},
   "source": [
    "In this project, I found that just predicting the mean number of fantasy points ended up being more effective than using XGBoost or RNNs. Out of curiosity, I want to use this naive prediction on the dataset used in the write-up that inspired this project.\n",
    "\n",
    "In that article, Christopher Zita used multivariable RNNs to predict the 2018-2019 seasons of Tom Brady and Todd Gurley more accurately that most 'expert' fantasy predictions. As training data he used 7 previous seasons (if they existed).\n",
    "\n",
    "I will simply take the mean fantasy points scored by each player in each season and use this as my prediction. Let's see if this beats Zita."
   ]
  },
  {
   "cell_type": "code",
   "execution_count": 16,
   "metadata": {},
   "outputs": [],
   "source": [
    "import datetime as dt\n",
    "import os\n",
    "import numpy as np\n",
    "import pandas as pd\n",
    "from sklearn.metrics import mean_squared_error, mean_absolute_error"
   ]
  },
  {
   "cell_type": "code",
   "execution_count": 17,
   "metadata": {},
   "outputs": [
    {
     "name": "stdout",
     "output_type": "stream",
     "text": [
      "gurley:\n",
      "   Rk  G#      Date   Tm Unnamed: 4  Opp   Result Pos  Att   Yds  ...  Tgt.1  \\\n",
      "0   1   3   9/27/15  STL        NaN  PIT   L 6-12  RB  NaN   NaN  ...    NaN   \n",
      "1   2   4   10/4/15  STL          @  ARI  W 24-22  RB  3.0  -5.0  ...    0.0   \n",
      "2   3   5  10/11/15  STL          @  GNB  L 10-24  RB  2.0   7.0  ...    0.0   \n",
      "3   4   6  10/25/15  STL        NaN  CLE   W 24-6  RB  2.0  17.0  ...    0.0   \n",
      "4   5   7   11/1/15  STL        NaN  SFO   W 27-6  RB  0.0   0.0  ...    1.0   \n",
      "\n",
      "   Rec.1  Yds.3  TD.3  Num     Pct  Num.1  FantPt  DKPt  FDPt  \n",
      "0    NaN    NaN   NaN   14  28.00%    0.0     1.4   2.4   1.9  \n",
      "1      0    0.0     0   36  67.90%    0.0    16.1  21.1  17.1  \n",
      "2      0    0.0     0   45  64.30%    0.0    15.9  18.9  15.9  \n",
      "3      0    0.0     0   36  67.90%    0.0    28.3  35.3  30.3  \n",
      "4      1   -2.0     0   36  52.20%    0.0    20.6  26.6  22.1  \n",
      "\n",
      "[5 rows x 28 columns]\n",
      "brady:\n",
      "   Rk  G#     Date   Tm Unnamed: 4  Opp   Result Pos  Cmp   Att  ...  Cmp.1  \\\n",
      "0   1   1  9/12/11  NWE          @  MIA  W 38-24  QB  7.0  11.0  ...    3.0   \n",
      "1   2   2  9/18/11  NWE        NaN  SDG  W 35-21  QB  3.0   5.0  ...    1.0   \n",
      "2   3   3  9/25/11  NWE          @  BUF  L 31-34  QB  6.0  10.0  ...    3.0   \n",
      "3   4   4  10/2/11  NWE          @  OAK  W 31-19  QB  2.0   3.0  ...    1.0   \n",
      "4   5   5  10/9/11  NWE        NaN  NYJ  W 30-21  QB  4.0   8.0  ...    2.0   \n",
      "\n",
      "   Att.2  Yds.2  TD.2  Att.3  Yds.3  TD.3  FantPt  DKPt  FDPt  \n",
      "0    6.0   13.0   3.0    0.0    0.0   0.0   34.98  39.0  36.0  \n",
      "1    3.0   10.0   1.0    0.0    0.0   0.0   29.22  32.2  29.2  \n",
      "2    5.0    9.0   2.0    1.0    5.0   0.0   23.98  31.0  28.0  \n",
      "3    2.0    4.0   1.0    0.0    0.0   0.0   16.94  16.9  16.9  \n",
      "4    4.0    6.0   1.0    0.0    0.0   0.0   15.14  19.1  16.1  \n",
      "\n",
      "[5 rows x 25 columns]\n"
     ]
    }
   ],
   "source": [
    "# Read in data\n",
    "players = {}\n",
    "path = '../data/aside_check_zita_naive'\n",
    "for filename in os.listdir(path):\n",
    "    if '.csv' in filename:\n",
    "        players[filename.split('.')[0]] = pd.read_csv(os.path.join(path,filename))\n",
    "\n",
    "for key, value in players.items():\n",
    "    print('{}:'.format(key))\n",
    "    print(value.head())"
   ]
  },
  {
   "cell_type": "code",
   "execution_count": 18,
   "metadata": {},
   "outputs": [],
   "source": [
    "def train_test_split(player_df, split_date):\n",
    "    player_df_cp = player_df.copy()\n",
    "    player_df_cp['Date'] = pd.to_datetime(player_df_cp['Date'])\n",
    "    train = player_df_cp.loc[player_df_cp['Date']<split_date, ['FantPt']]\n",
    "    test = player_df_cp.loc[player_df_cp['Date']>split_date, ['FantPt']]\n",
    "    \n",
    "    return train, test"
   ]
  },
  {
   "cell_type": "code",
   "execution_count": 19,
   "metadata": {
    "scrolled": true
   },
   "outputs": [
    {
     "name": "stdout",
     "output_type": "stream",
     "text": [
      "gurley:\n",
      "RMSE: 13.10\n",
      " MAE: 12.04\n",
      "brady:\n",
      "RMSE: 6.78\n",
      " MAE: 5.54\n"
     ]
    }
   ],
   "source": [
    "split_date = dt.datetime(2018,5,1)\n",
    "\n",
    "for key, value in players.items():\n",
    "    y_train, y_test = train_test_split(value, split_date)\n",
    "    preds = [y_train.mean()] * len(y_test)\n",
    "    rmse = np.sqrt(mean_squared_error(y_test, preds))\n",
    "    mae = mean_absolute_error(y_test, preds)\n",
    "    print('{}:'.format(key))\n",
    "    print(\"RMSE: {:.2f}\\n MAE: {:.2f}\".format(rmse, mae))"
   ]
  },
  {
   "cell_type": "markdown",
   "metadata": {},
   "source": [
    "For Brady, Zita's RNN achieved and MAE of 5.3, while the best expert predictions got 4.9. For Gurley, Zita's RNN was the strongest at 5.68.\n",
    "\n",
    "It seems that the machine learning approach did not make a noticeable difference for a consistent player like Brady. However, considerable gains in performance can be had for less consistent players like Gurley."
   ]
  }
 ],
 "metadata": {
  "kernelspec": {
   "display_name": "venv_fantasy",
   "language": "python",
   "name": "venv_fantasy"
  },
  "language_info": {
   "codemirror_mode": {
    "name": "ipython",
    "version": 3
   },
   "file_extension": ".py",
   "mimetype": "text/x-python",
   "name": "python",
   "nbconvert_exporter": "python",
   "pygments_lexer": "ipython3",
   "version": "3.7.3"
  }
 },
 "nbformat": 4,
 "nbformat_minor": 2
}
