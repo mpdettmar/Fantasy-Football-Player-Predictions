{
 "cells": [
  {
   "cell_type": "markdown",
   "metadata": {},
   "source": [
    "# Appendix - Comparing Chrsitopher Zita's RNNs to a Naive Model"
   ]
  },
  {
   "cell_type": "markdown",
   "metadata": {},
   "source": [
    "In this project, I found that just predicting a three day moving average of fantasy points for each player was only slightly less effective than using XGBoost or RNNs. Out of curiosity, I want to use this naive prediction on the dataset used in the write-up that inspired this project.\n",
    "\n",
    "In that article, Christopher Zita used multivariable RNNs to predict the 2018-2019 seasons of Tom Brady and Todd Gurley more accurately that most 'expert' fantasy predictions. As training data he used 7 previous seasons (if they existed).\n",
    "\n",
    "I will simply take the three day moving average of fantasy points scored by each player as a prediction for the subsequent game. Let's see if this beats Zita."
   ]
  },
  {
   "cell_type": "markdown",
   "metadata": {},
   "source": [
    "#### Import Packages"
   ]
  },
  {
   "cell_type": "code",
   "execution_count": 1,
   "metadata": {},
   "outputs": [],
   "source": [
    "import datetime as dt\n",
    "import os\n",
    "import numpy as np\n",
    "import pandas as pd\n",
    "from sklearn.metrics import mean_squared_error, mean_absolute_error"
   ]
  },
  {
   "cell_type": "markdown",
   "metadata": {},
   "source": [
    "#### Read in Data"
   ]
  },
  {
   "cell_type": "code",
   "execution_count": 2,
   "metadata": {},
   "outputs": [
    {
     "name": "stdout",
     "output_type": "stream",
     "text": [
      "gurley:\n",
      "    Rk  G#       Date   Tm Unnamed: 4  Opp   Result Pos   Att   Yds  ...  \\\n",
      "41  13  13 2017-12-10  LAR        NaN  PHI  L 35-43  HB   4.0  15.0  ...   \n",
      "42  14  14 2017-12-17  LAR          @  SEA   W 42-7  HB   6.0  11.0  ...   \n",
      "43  15  15 2017-12-24  LAR          @  TEN  W 27-23  HB   4.0  15.0  ...   \n",
      "44   1   1 2018-09-10  LAR          @  OAK  W 33-13  RB   5.0  19.0  ...   \n",
      "45   2   2 2018-09-16  LAR        NaN  ARI   W 34-0  HB  10.0  33.0  ...   \n",
      "\n",
      "    Tgt.1  Rec.1  Yds.3  TD.3  Num     Pct  Num.1  FantPt  DKPt FDPt  \n",
      "41    0.0      0    0.0     0   45  93.80%   25.5    28.5  27.0  NaN  \n",
      "42    0.0      0    0.0     0   43  63.20%   42.0    48.0  43.5  NaN  \n",
      "43    1.0      1    3.0     1   62  92.50%   39.6    55.6  44.6  NaN  \n",
      "44    0.0      0    0.0     0   59  93.70%   20.7    26.7  22.2  NaN  \n",
      "45    0.0      0    0.0     0   49  68.10%   29.3    32.3  30.8  NaN  \n",
      "\n",
      "[5 rows x 28 columns]\n",
      "brady:\n",
      "     Rk  G#       Date   Tm Unnamed: 4  Opp   Result Pos  Cmp  Att  ...  \\\n",
      "105  14  14 2017-12-17  NWE          @  PIT  W 27-24  QB  2.0  5.0  ...   \n",
      "106  15  15 2017-12-24  NWE        NaN  BUF  W 37-16  QB  5.0  6.0  ...   \n",
      "107  16  16 2017-12-31  NWE        NaN  NYJ   W 26-6  QB  4.0  5.0  ...   \n",
      "108   1   1 2018-09-09  NWE        NaN  HOU  W 27-20  QB  3.0  5.0  ...   \n",
      "109   2   2 2018-09-16  NWE          @  JAX  L 20-31  QB  2.0  4.0  ...   \n",
      "\n",
      "     Cmp.1  Att.2  Yds.2  TD.2  Att.3  Yds.3  TD.3  FantPt  DKPt  FDPt  \n",
      "105    1.0    2.0    4.0   1.0    0.0    0.0   0.0   15.72  16.7  16.7  \n",
      "106    0.0    1.0    0.0   0.0    0.0    0.0   0.0   15.56  16.6  16.6  \n",
      "107    2.0    3.0   10.0   2.0    0.0    0.0   0.0   15.60  15.6  15.6  \n",
      "108    1.0    1.0    4.0   1.0    0.0    0.0   0.0   21.28  22.3  22.3  \n",
      "109    1.0    1.0    7.0   1.0    0.0    0.0   0.0   16.36  17.4  16.4  \n",
      "\n",
      "[5 rows x 25 columns]\n"
     ]
    }
   ],
   "source": [
    "players = {}\n",
    "split_date = dt.datetime(2018,5,1)\n",
    "path = '../data/appendix_zita_naive'\n",
    "\n",
    "\n",
    "for filename in os.listdir(path):\n",
    "    if '.csv' in filename:\n",
    "        tmp_df = pd.read_csv(os.path.join(path,filename))\n",
    "        tmp_df['Date'] = pd.to_datetime(tmp_df['Date'])\n",
    "        season_idx = np.min(tmp_df.loc[tmp_df['Date']>split_date].index)\n",
    "        tmp_df = tmp_df.iloc[season_idx-3:,:] # Keep only 2018-19 season + 3 games before for moving average\n",
    "    \n",
    "        players[filename.split('.')[0]] = tmp_df\n",
    "\n",
    "for key, value in players.items():    \n",
    "    print('{}:'.format(key))\n",
    "    print(value.head())"
   ]
  },
  {
   "cell_type": "markdown",
   "metadata": {},
   "source": [
    "#### Make Predictions"
   ]
  },
  {
   "cell_type": "code",
   "execution_count": 3,
   "metadata": {
    "scrolled": true
   },
   "outputs": [
    {
     "name": "stdout",
     "output_type": "stream",
     "text": [
      "gurley:\n",
      "RMSE: 11.58\n",
      " MAE: 9.96\n",
      "brady:\n",
      "RMSE: 7.95\n",
      " MAE: 6.74\n"
     ]
    }
   ],
   "source": [
    "for key, value in players.items():\n",
    "    value['pred'] = value['FantPt'].rolling(3).mean().shift()\n",
    "    value = value.loc[value['Date']>split_date]\n",
    "    rmse = np.sqrt(mean_squared_error(value['FantPt'], value['pred']))\n",
    "    mae = mean_absolute_error(value['FantPt'], value['pred'])\n",
    "    print('{}:'.format(key))\n",
    "    print(\"RMSE: {:.2f}\\n MAE: {:.2f}\".format(rmse, mae))"
   ]
  },
  {
   "cell_type": "markdown",
   "metadata": {},
   "source": [
    "For Brady, Zita's RNN achieved and MAE of 5.3, while the best expert predictions got 4.9. For Gurley, Zita's RNN was the strongest at 5.68.\n",
    "\n",
    "So, Zita's gains over a baseline mean prediction appear to be sizeable."
   ]
  }
 ],
 "metadata": {
  "kernelspec": {
   "display_name": "venv_fantasy",
   "language": "python",
   "name": "venv_fantasy"
  },
  "language_info": {
   "codemirror_mode": {
    "name": "ipython",
    "version": 3
   },
   "file_extension": ".py",
   "mimetype": "text/x-python",
   "name": "python",
   "nbconvert_exporter": "python",
   "pygments_lexer": "ipython3",
   "version": "3.7.3"
  }
 },
 "nbformat": 4,
 "nbformat_minor": 2
}
