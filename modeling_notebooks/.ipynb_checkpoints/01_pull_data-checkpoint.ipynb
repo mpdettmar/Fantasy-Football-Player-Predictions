{
 "cells": [
  {
   "cell_type": "markdown",
   "metadata": {},
   "source": [
    "# Compile Raw Project Data"
   ]
  },
  {
   "cell_type": "markdown",
   "metadata": {},
   "source": [
    "This project uses data from four sources:\n",
    "\n",
    "1. Fantasy statisics for Tom Brady and LeSean McCoy from the 2010 - 2012 seasons. Downloaded by hand from profootballreference.com (\"Tom Brady NFL Fantasy Football Statistics\". Pro-Football-Reference.com. Retrieved October 19, 2019; \"LeSean McCoy NFL Fantasy Football Statistics\". Pro-Football-Reference.com. Retrieved October 19, 2019.) Located in ~/data/data_raw/players.\n",
    "\n",
    "2. Game data for all NFL games played since 1966. Used for weather features. Downloaded from Kaggle (spreadspoke (2019, August). NFL Scores and Betting Data. Retrieved October 19, 2019.). Located in ~/data/data_raw/games. \n",
    "\n",
    "3. Defensive numbers put up by every team for all games in the 2010 - 2012 seasons. Downloaded using the Python sportsreference API. Located in ~/data/data_raw/teams. \n",
    "\n",
    "4. NFL tweets from the 2010 - 2012 seasons. Downloaded from Sinha, et. al. ( Predicting the NFL using Twitter. Shiladitya Sinha, Chris Dyer, Kevin Gimpel, and Noah A. Smith. In Proceedings of the ECML/PKDD 2013 Workshop on Machine Learning and Data Mining for Sports Analytics, Prague, Czech Republic, September 2013.) Located in ~/data/data_raw/tweets_meta. \n",
    "\n",
    "    The former two datasets were manually downloaded and are available by default in the repository. The defensive data is also present in the repository, but was downloaded using the script located at ~/data_compilation/get_defensive_stats.py. Finally, the Twitter dataset is available in the repository, but it does not include any of the tweet text, per Twitter's terms of service. The script ~/data_compilation/pull_tweet_text.py will use the tweepy package to retrieve the text for each tweet and write it to the ~/data/data_raw/tweets_text folder. \n",
    "    \n",
    "All of this data will be required for the following notebooks. This notebook will execute the two scripts.\n"
   ]
  },
  {
   "cell_type": "code",
   "execution_count": null,
   "metadata": {},
   "outputs": [],
   "source": [
    "# Defensive Stats\n",
    "!python3 ../data_compilation/get_defensive_stats.py"
   ]
  },
  {
   "cell_type": "code",
   "execution_count": null,
   "metadata": {},
   "outputs": [],
   "source": [
    "# Twitter Data\n",
    "!python3 ../data_compilation/pull_tweet_text.py"
   ]
  }
 ],
 "metadata": {
  "kernelspec": {
   "display_name": "Python 3",
   "language": "python",
   "name": "python3"
  },
  "language_info": {
   "codemirror_mode": {
    "name": "ipython",
    "version": 3
   },
   "file_extension": ".py",
   "mimetype": "text/x-python",
   "name": "python",
   "nbconvert_exporter": "python",
   "pygments_lexer": "ipython3",
   "version": "3.7.3"
  }
 },
 "nbformat": 4,
 "nbformat_minor": 2
}
