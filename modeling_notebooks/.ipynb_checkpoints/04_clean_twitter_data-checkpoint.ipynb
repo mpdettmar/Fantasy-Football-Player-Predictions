{
 "cells": [
  {
   "cell_type": "markdown",
   "metadata": {},
   "source": [
    "# Clean Twitter Data\n",
    "\n",
    "We have two tasks in this notebook:\n",
    "1. Ensure consistency of abbreviations between Twitter data and players data\n",
    "2. Join twitter text and meta dataframes and label columns\n"
   ]
  },
  {
   "cell_type": "code",
   "execution_count": 77,
   "metadata": {},
   "outputs": [],
   "source": [
    "import os\n",
    "import pandas as pd"
   ]
  },
  {
   "cell_type": "code",
   "execution_count": 78,
   "metadata": {
    "scrolled": true
   },
   "outputs": [
    {
     "data": {
      "text/html": [
       "<div>\n",
       "<style scoped>\n",
       "    .dataframe tbody tr th:only-of-type {\n",
       "        vertical-align: middle;\n",
       "    }\n",
       "\n",
       "    .dataframe tbody tr th {\n",
       "        vertical-align: top;\n",
       "    }\n",
       "\n",
       "    .dataframe thead th {\n",
       "        text-align: right;\n",
       "    }\n",
       "</style>\n",
       "<table border=\"1\" class=\"dataframe\">\n",
       "  <thead>\n",
       "    <tr style=\"text-align: right;\">\n",
       "      <th></th>\n",
       "      <th>tweet_id</th>\n",
       "      <th>content</th>\n",
       "    </tr>\n",
       "  </thead>\n",
       "  <tbody>\n",
       "    <tr>\n",
       "      <th>0</th>\n",
       "      <td>22671772304</td>\n",
       "      <td>Rice roster move made official:  http://bit.ly...</td>\n",
       "    </tr>\n",
       "    <tr>\n",
       "      <th>1</th>\n",
       "      <td>22663024404</td>\n",
       "      <td>Some rumblings about #Cowboys WR Patrick Crayt...</td>\n",
       "    </tr>\n",
       "    <tr>\n",
       "      <th>2</th>\n",
       "      <td>22667563900</td>\n",
       "      <td>Chargers Preseason: 2010 Depth Chart (Preseaso...</td>\n",
       "    </tr>\n",
       "    <tr>\n",
       "      <th>3</th>\n",
       "      <td>22671763401</td>\n",
       "      <td>The story of the Old man and the Terminator, a...</td>\n",
       "    </tr>\n",
       "    <tr>\n",
       "      <th>4</th>\n",
       "      <td>22671171703</td>\n",
       "      <td>@TRE_HAWKS Josh Wilson was proven...to be medi...</td>\n",
       "    </tr>\n",
       "  </tbody>\n",
       "</table>\n",
       "</div>"
      ],
      "text/plain": [
       "      tweet_id                                            content\n",
       "0  22671772304  Rice roster move made official:  http://bit.ly...\n",
       "1  22663024404  Some rumblings about #Cowboys WR Patrick Crayt...\n",
       "2  22667563900  Chargers Preseason: 2010 Depth Chart (Preseaso...\n",
       "3  22671763401  The story of the Old man and the Terminator, a...\n",
       "4  22671171703  @TRE_HAWKS Josh Wilson was proven...to be medi..."
      ]
     },
     "execution_count": 78,
     "metadata": {},
     "output_type": "execute_result"
    }
   ],
   "source": [
    "# Read in text data\n",
    "tweet_text = pd.DataFrame()\n",
    "path = '../data/data_raw/tweets_text' # Note that the user needs to run 01_pull_data.ipynb for this to work\n",
    "for filename in os.listdir(path):\n",
    "    if '.csv' in filename:\n",
    "        tweet_text = tweet_text.append(pd.read_csv(os.path.join(path,filename), header=None))\n",
    "tweet_text.columns=['tweet_id', 'content']\n",
    "tweet_text.head()"
   ]
  },
  {
   "cell_type": "code",
   "execution_count": 79,
   "metadata": {},
   "outputs": [
    {
     "data": {
      "text/html": [
       "<div>\n",
       "<style scoped>\n",
       "    .dataframe tbody tr th:only-of-type {\n",
       "        vertical-align: middle;\n",
       "    }\n",
       "\n",
       "    .dataframe tbody tr th {\n",
       "        vertical-align: top;\n",
       "    }\n",
       "\n",
       "    .dataframe thead th {\n",
       "        text-align: right;\n",
       "    }\n",
       "</style>\n",
       "<table border=\"1\" class=\"dataframe\">\n",
       "  <thead>\n",
       "    <tr style=\"text-align: right;\">\n",
       "      <th></th>\n",
       "      <th>tweet_id</th>\n",
       "      <th>tweet_UTCtime</th>\n",
       "      <th>team</th>\n",
       "      <th>opponent</th>\n",
       "      <th>week</th>\n",
       "      <th>home_away</th>\n",
       "      <th>score</th>\n",
       "      <th>opponent_score</th>\n",
       "      <th>point_spread</th>\n",
       "      <th>over_under</th>\n",
       "    </tr>\n",
       "  </thead>\n",
       "  <tbody>\n",
       "    <tr>\n",
       "      <th>0</th>\n",
       "      <td>109054198431223809</td>\n",
       "      <td>2011-9-01T00:05:21</td>\n",
       "      <td>KC</td>\n",
       "      <td>BUF</td>\n",
       "      <td>1</td>\n",
       "      <td>HOME</td>\n",
       "      <td>7</td>\n",
       "      <td>41</td>\n",
       "      <td>-4.0</td>\n",
       "      <td>40.0</td>\n",
       "    </tr>\n",
       "    <tr>\n",
       "      <th>1</th>\n",
       "      <td>109054336889393153</td>\n",
       "      <td>2011-9-01T00:05:54</td>\n",
       "      <td>STL</td>\n",
       "      <td>PHI</td>\n",
       "      <td>1</td>\n",
       "      <td>HOME</td>\n",
       "      <td>13</td>\n",
       "      <td>31</td>\n",
       "      <td>4.0</td>\n",
       "      <td>44.5</td>\n",
       "    </tr>\n",
       "    <tr>\n",
       "      <th>2</th>\n",
       "      <td>109054345147990016</td>\n",
       "      <td>2011-9-01T00:05:56</td>\n",
       "      <td>SF</td>\n",
       "      <td>SEA</td>\n",
       "      <td>1</td>\n",
       "      <td>HOME</td>\n",
       "      <td>33</td>\n",
       "      <td>17</td>\n",
       "      <td>-6.0</td>\n",
       "      <td>37.5</td>\n",
       "    </tr>\n",
       "    <tr>\n",
       "      <th>3</th>\n",
       "      <td>109054403985682434</td>\n",
       "      <td>2011-9-01T00:06:10</td>\n",
       "      <td>DAL</td>\n",
       "      <td>NYJ</td>\n",
       "      <td>1</td>\n",
       "      <td>AWAY</td>\n",
       "      <td>24</td>\n",
       "      <td>27</td>\n",
       "      <td>6.0</td>\n",
       "      <td>40.5</td>\n",
       "    </tr>\n",
       "    <tr>\n",
       "      <th>4</th>\n",
       "      <td>109054470918377472</td>\n",
       "      <td>2011-9-01T00:06:26</td>\n",
       "      <td>MIN</td>\n",
       "      <td>SD</td>\n",
       "      <td>1</td>\n",
       "      <td>AWAY</td>\n",
       "      <td>17</td>\n",
       "      <td>24</td>\n",
       "      <td>9.0</td>\n",
       "      <td>42.5</td>\n",
       "    </tr>\n",
       "  </tbody>\n",
       "</table>\n",
       "</div>"
      ],
      "text/plain": [
       "             tweet_id       tweet_UTCtime team opponent  week home_away  \\\n",
       "0  109054198431223809  2011-9-01T00:05:21   KC      BUF     1      HOME   \n",
       "1  109054336889393153  2011-9-01T00:05:54  STL      PHI     1      HOME   \n",
       "2  109054345147990016  2011-9-01T00:05:56   SF      SEA     1      HOME   \n",
       "3  109054403985682434  2011-9-01T00:06:10  DAL      NYJ     1      AWAY   \n",
       "4  109054470918377472  2011-9-01T00:06:26  MIN       SD     1      AWAY   \n",
       "\n",
       "   score  opponent_score  point_spread  over_under  \n",
       "0      7              41          -4.0        40.0  \n",
       "1     13              31           4.0        44.5  \n",
       "2     33              17          -6.0        37.5  \n",
       "3     24              27           6.0        40.5  \n",
       "4     17              24           9.0        42.5  "
      ]
     },
     "execution_count": 79,
     "metadata": {},
     "output_type": "execute_result"
    }
   ],
   "source": [
    "# Read in and label columns for metadata\n",
    "tweet_meta = pd.DataFrame()\n",
    "path = '../data/data_raw/tweets_meta'\n",
    "col_key_file = 'tweets.key.csv'\n",
    "colnames = pd.read_csv(os.path.join(path,col_key_file)).columns.tolist()\n",
    "for filename in os.listdir(path):\n",
    "    if ('.csv' in filename) & (filename != col_key_file):\n",
    "        year_search = re.search(r'\\d\\d\\d\\d', filename)\n",
    "        tweet_meta = tweet_meta.append(pd.read_csv(os.path.join(path,filename), header=None, names=colnames))\n",
    "\n",
    "tweet_meta.head()"
   ]
  },
  {
   "cell_type": "code",
   "execution_count": 80,
   "metadata": {},
   "outputs": [
    {
     "name": "stdout",
     "output_type": "stream",
     "text": [
      "569652 tweets deleted since 2012. 1138623 tweets remaining.\n",
      "             tweet_id       tweet_UTCtime team opponent  week home_away  \\\n",
      "0  109054470918377472  2011-9-01T00:06:26  MIN       SD     1      AWAY   \n",
      "1  109054580297437184  2011-9-01T00:06:52  PIT      BAL     1      AWAY   \n",
      "2  109054756156215297  2011-9-01T00:07:34  PHI      STL     1      AWAY   \n",
      "3  109055075225305088  2011-9-01T00:08:50  DAL      NYJ     1      AWAY   \n",
      "4  109055146494930944  2011-9-01T00:09:07   NE      MIA     1      AWAY   \n",
      "\n",
      "   score  opponent_score  point_spread  over_under  \\\n",
      "0     17              24           9.0        42.5   \n",
      "1      7              35           1.5        36.5   \n",
      "2     31              13          -4.0        44.5   \n",
      "3     24              27           6.0        40.5   \n",
      "4     38              24          -7.5        45.5   \n",
      "\n",
      "                                             content  \n",
      "0  RT @SaveTheVikesOrg: Drumming up #Vikings stad...  \n",
      "1                   RT @Haydollbaby: #steelersnation  \n",
      "2  RT @MyPhilaEagles: Yo the bol @DeseanJackson10...  \n",
      "3  @DEZ_88....yo i'm headed to miami right after ...  \n",
      "4  RT @nfl: Tom Brady and @Ochocinco still lookin...  \n"
     ]
    }
   ],
   "source": [
    "# Merge the data\n",
    "tweets_all = tweet_meta.merge(tweet_text, how='left', on='tweet_id')\n",
    "print('{} tweets deleted since 2012. {} tweets remaining.'.format(len(tweet_meta) - len(tweet_text), len(tweet_text)))\n",
    "print(tweets_all.head())"
   ]
  },
  {
   "cell_type": "code",
   "execution_count": 82,
   "metadata": {},
   "outputs": [
    {
     "name": "stdout",
     "output_type": "stream",
     "text": [
      "['NWE' 'SDG' 'GNB' 'NOR' 'KAN' 'TAM' 'SFO']\n",
      "['NE' 'GB' 'SF' 'SD' 'TB' 'NO' 'KC']\n"
     ]
    }
   ],
   "source": [
    "# Read in defensive stats for team abrreviation comparison\n",
    "defensive_stats = pd.read_csv('../data/data_modified/teams/defensive_stats.csv')\n",
    "print(defensive_stats['team'][~defensive_stats['team'].isin(tweets_all['team'])].unique())\n",
    "print(tweets_all['team'][~tweets_all['team'].isin(defensive_stats['team'])].unique())"
   ]
  },
  {
   "cell_type": "code",
   "execution_count": 83,
   "metadata": {
    "scrolled": true
   },
   "outputs": [
    {
     "name": "stdout",
     "output_type": "stream",
     "text": [
      "0\n",
      "0\n"
     ]
    }
   ],
   "source": [
    "# Manually map names using domain knowledge\n",
    "abbr_mappings = {\n",
    "    'NE':'NWE',\n",
    "    'GB':'GNB',\n",
    "    'SF':'SFO',\n",
    "    'SD':'SDG',\n",
    "    'TB':'TAM',\n",
    "    'NO':'NOR',\n",
    "    'KC':'KAN'}\n",
    "tweets_all.replace(abbr_mappings, inplace=True)\n",
    "print(sum(~tweets_all['team'].isin(defensive_stats['team'].unique())))\n",
    "print(sum(~tweets_all['opponent'].isin(defensive_stats['team'].unique())))"
   ]
  },
  {
   "cell_type": "code",
   "execution_count": 97,
   "metadata": {},
   "outputs": [],
   "source": [
    "# Remove escape chars\n",
    "tweets_all['content'] = [tweet.replace('\\r', ' ').replace('\\n', ' ') for tweet in tweets_all['content']]"
   ]
  },
  {
   "cell_type": "code",
   "execution_count": 99,
   "metadata": {},
   "outputs": [],
   "source": [
    "tweets_all.to_csv('../data/data_modified/tweets/tweets.csv', index=False)"
   ]
  }
 ],
 "metadata": {
  "kernelspec": {
   "display_name": "venv_fantasy",
   "language": "python",
   "name": "venv_fantasy"
  },
  "language_info": {
   "codemirror_mode": {
    "name": "ipython",
    "version": 3
   },
   "file_extension": ".py",
   "mimetype": "text/x-python",
   "name": "python",
   "nbconvert_exporter": "python",
   "pygments_lexer": "ipython3",
   "version": "3.7.3"
  }
 },
 "nbformat": 4,
 "nbformat_minor": 2
}
