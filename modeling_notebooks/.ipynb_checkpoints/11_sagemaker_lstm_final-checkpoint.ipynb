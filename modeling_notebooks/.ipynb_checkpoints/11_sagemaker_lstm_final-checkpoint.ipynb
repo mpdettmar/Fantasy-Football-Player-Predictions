{
 "cells": [
  {
   "cell_type": "markdown",
   "metadata": {},
   "source": [
    "Use kernal conda_tensorflow_p36"
   ]
  },
  {
   "cell_type": "code",
   "execution_count": null,
   "metadata": {},
   "outputs": [
    {
     "name": "stderr",
     "output_type": "stream",
     "text": [
      "Using TensorFlow backend.\n"
     ]
    }
   ],
   "source": [
    "import datetime as dt\n",
    "import matplotlib.pyplot as plt\n",
    "import numpy as np\n",
    "import pandas as pd\n",
    "from sklearn.preprocessing import MinMaxScaler\n",
    "from sklearn.metrics import mean_squared_error, mean_absolute_error\n",
    "from keras.models import Sequential\n",
    "from keras.layers import Dense, Dropout, LSTM\n",
    "\n",
    "plt.style.use('ggplot')"
   ]
  },
  {
   "cell_type": "markdown",
   "metadata": {},
   "source": [
    "## Tom Brady"
   ]
  },
  {
   "cell_type": "code",
   "execution_count": null,
   "metadata": {},
   "outputs": [],
   "source": [
    "# Read in data\n",
    "brady = pd.read_csv('../data/data_final/final/features_raw/brady.csv')\n",
    "\n",
    "# Select features for RNN, along with target. Specifically, remove averages.\n",
    "features = [\n",
    "    'target',\n",
    "    'date',\n",
    "    'player_home',\n",
    "    'betting_over_under_line',\n",
    "    'betting_spread',\n",
    "    'weather_temperature',\n",
    "    'weather_wind_mph',\n",
    "    'weather_humidity',\n",
    "    'weather_inclement',\n",
    "    'defense_fumbles_forced_moving_avg_1',\n",
    "    'defense_fumbles_forced_moving_avg_3',\n",
    "    'defense_fumbles_forced_moving_avg_5',\n",
    "    'defense_interceptions_moving_avg_1',\n",
    "    'defense_interceptions_moving_avg_3',\n",
    "    'defense_interceptions_moving_avg_5',\n",
    "    'defense_pass_yards_allowed_moving_avg_1',\n",
    "    'defense_pass_yards_allowed_moving_avg_3',\n",
    "    'defense_pass_yards_allowed_moving_avg_5',\n",
    "    'defense_rush_yards_allowed_moving_avg_1',\n",
    "    'defense_rush_yards_allowed_moving_avg_3',\n",
    "    'defense_rush_yards_allowed_moving_avg_5',\n",
    "    'defense_sacks_moving_avg_1',\n",
    "    'defense_sacks_moving_avg_3',\n",
    "    'defense_sacks_moving_avg_5',\n",
    "    'defense_points_allowed_moving_avg_1',\n",
    "    'defense_points_allowed_moving_avg_3',\n",
    "    'defense_points_allowed_moving_avg_5',\n",
    "    'twitter_pct_player_tweets',\n",
    "    'twitter_pct_opponent_tweets',\n",
    "    'twitter_count_player_swing_1_3',\n",
    "    'twitter_count_opponent_swing_1_3',\n",
    "    'twitter_player_net_sentiment',\n",
    "    'twitter_opponent_net_sentiment',\n",
    "    'twitter_player_pct_neutral',\n",
    "    'twitter_opponent_pct_neutral',\n",
    "    'twitter_net_sentiment_player_swing_1_3',\n",
    "    'twitter_net_sentiment_opponent_swing_1_3',\n",
    "    'twitter_pct_neutral_player_swing_1_3',\n",
    "    'twitter_pct_neutral_opponent_swing_1_3'\n",
    "]\n",
    "\n",
    "brady = brady.loc[:, features]\n",
    "brady['date'] = pd.to_datetime(brady['date'])"
   ]
  },
  {
   "cell_type": "code",
   "execution_count": null,
   "metadata": {},
   "outputs": [],
   "source": [
    "# For each column in X, replace NaNs with training set naive Bayes\n",
    "def replace_nans_mean(df, split):\n",
    "    df_cp = df.copy()\n",
    "    for col in df_cp.columns:\n",
    "        if col == 'date':\n",
    "            continue\n",
    "        naive_estimate = df_cp.loc[:split, col].mean()\n",
    "        df_cp.loc[pd.isnull(df_cp[col]), col] = naive_estimate\n",
    "        \n",
    "    return df_cp\n",
    "        \n",
    "brady = replace_nans_mean(brady, 32)"
   ]
  },
  {
   "cell_type": "code",
   "execution_count": null,
   "metadata": {},
   "outputs": [],
   "source": [
    "# Train + test set indices\n",
    "split_date = pd.Timestamp(2012,5,1)\n",
    "train_idx = brady.loc[brady['date']<split_date].index.values\n",
    "test_idx = brady.loc[brady['date']>split_date].index.values\n",
    "\n",
    "# Scale Features\n",
    "brady.drop('date', axis=1, inplace=True)\n",
    "scaler = MinMaxScaler()\n",
    "scaler.fit(brady)\n",
    "brady = scaler.transform(brady)\n",
    "\n",
    "# Train + test sets\n",
    "train, test = brady[train_idx], brady[test_idx]\n",
    "\n",
    "# Split to X and Y\n",
    "# X_train, X_test, y_train, y_test = X, y = brady.iloc[:,1:], brady.iloc[:,0]"
   ]
  },
  {
   "cell_type": "code",
   "execution_count": null,
   "metadata": {},
   "outputs": [],
   "source": [
    "def build_lstm_data(df, window):\n",
    "    X = []\n",
    "    y = []\n",
    "    for i in range(len(df)-window):\n",
    "        temp_set = df[i:(i+window)].copy()\n",
    "        X.append(temp_set[:,1:])\n",
    "        y.append(temp_set[window-1,0])\n",
    "\n",
    "    return np.array(X), np.array(y)"
   ]
  },
  {
   "cell_type": "code",
   "execution_count": null,
   "metadata": {},
   "outputs": [],
   "source": [
    "# Create train and test sets\n",
    "window = 5\n",
    "X, y = build_lstm_data(brady, window)\n",
    "X_train, y_train = X[(train_idx-window)[window:]], y[(train_idx-window)[window:]]\n",
    "X_test, y_test = X[(test_idx-window)], y[(test_idx-window)]"
   ]
  },
  {
   "cell_type": "code",
   "execution_count": null,
   "metadata": {},
   "outputs": [],
   "source": [
    "# Invert scaling of y for testing comparison\n",
    "y_inv = np.concatenate((y_test.reshape(len(y_test),1), test[:,1:]), axis=1)\n",
    "y_inv = scaler.inverse_transform(y_inv)\n",
    "y_inv = y_inv[:,0]"
   ]
  },
  {
   "cell_type": "code",
   "execution_count": null,
   "metadata": {
    "scrolled": true
   },
   "outputs": [],
   "source": [
    "%%time\n",
    "# Build networks. Loop n times to deal with ranodmness.\n",
    "n_loops = 10\n",
    "rmses, maes = [], []\n",
    "best_rmse, best_mae = 100, 100\n",
    "best_model = None\n",
    "best_preds = []\n",
    "\n",
    "for i in range(0, n_loops):\n",
    "    model = Sequential()\n",
    "    model.add(LSTM(30, input_shape=(X_train.shape[1], X_train.shape[2]), return_sequences=True))\n",
    "    model.add(Dropout(.3))\n",
    "    model.add(LSTM(30))\n",
    "    model.add(Dropout(.3))\n",
    "    model.add(Dense(1))\n",
    "    model.compile(loss='mae', optimizer='adam')\n",
    "    \n",
    "    # Fit network\n",
    "    lstm_model = model.fit(X_train, y_train, epochs=1000, batch_size=5, validation_data=(X_test, y_test), verbose=2, shuffle=False)\n",
    "    \n",
    "    # Make predictions for test set\n",
    "    preds = model.predict(X_test)\n",
    "    \n",
    "    # Invert scaling for preds\n",
    "    preds_inv = np.concatenate((preds, test[:,1:]), axis=1)\n",
    "    preds_inv = scaler.inverse_transform(preds_inv)\n",
    "    preds_inv = preds_inv[:,0]\n",
    "    \n",
    "    # Calculate RMSE and MAE\n",
    "    rmses.append(np.sqrt(mean_squared_error(y_inv, preds_inv)))\n",
    "    maes.append(mean_absolute_error(y_inv, preds_inv))\n",
    "    \n",
    "    if maes[i] < best_mae:\n",
    "        best_rmse = rmses[i]\n",
    "        best_mae = maes[i]\n",
    "        best_model = lstm_model\n",
    "        best_preds = preds_inv\n",
    "    "
   ]
  },
  {
   "cell_type": "code",
   "execution_count": null,
   "metadata": {
    "scrolled": true
   },
   "outputs": [],
   "source": [
    "# Plot loss curve for best model\n",
    "plt.rcParams['figure.figsize'] = (10, 5)\n",
    "\n",
    "plt.plot(best_model.history['loss'], label='train')\n",
    "plt.plot(best_model.history['val_loss'], label='test')\n",
    "plt.legend()\n",
    "plt.xlabel('epoch')\n",
    "plt.ylabel('loss')\n",
    "plt.show()"
   ]
  },
  {
   "cell_type": "code",
   "execution_count": null,
   "metadata": {},
   "outputs": [],
   "source": [
    "# Print RMSES and MAES\n",
    "print('Best RMSE: {:.2f}'.format(best_rmse))\n",
    "print('Best MAE: {:.2f}'.format(best_mae))\n",
    "print('Average RMSE: {:.2f}'.format(np.mean(rmses)))\n",
    "print('Average MAE: {:.2f}'.format(np.mean(maes)))"
   ]
  },
  {
   "cell_type": "code",
   "execution_count": null,
   "metadata": {},
   "outputs": [],
   "source": [
    "plt.boxplot([maes, rmses])"
   ]
  },
  {
   "cell_type": "code",
   "execution_count": null,
   "metadata": {},
   "outputs": [],
   "source": [
    "plt.rcParams['figure.figsize'] = (10, 5)\n",
    "fig, ax = plt.subplots()\n",
    "plot1 = ax.plot(y_inv, alpha = 0.8, label='actual')\n",
    "plot1 = ax.plot(best_preds, alpha = 0.8, label='predicted')\n",
    "ax.legend()\n",
    "plt.xlabel('Week (2012)')\n",
    "plt.ylabel('Fantasy Points')\n",
    "plt.title('Tom Brady Fantasy Points 2012, Predicted vs Actual')"
   ]
  },
  {
   "cell_type": "markdown",
   "metadata": {},
   "source": [
    "##### Iterative Training"
   ]
  },
  {
   "cell_type": "code",
   "execution_count": 42,
   "metadata": {},
   "outputs": [],
   "source": [
    "# Rebuild network for iterative training - stateful model with one batch\n",
    "model = Sequential()\n",
    "model.add(LSTM(50, batch_input_shape=(1, X_train.shape[1], X_train.shape[2]), stateful=True))\n",
    "model.add(Dense(1))\n",
    "model.compile(loss='mse', optimizer='adam')\n",
    "\n",
    "for i in range(50):\n",
    "    model.fit(X_train, y_train, epochs=1, batch_size=1, verbose=0, shuffle=False)\n",
    "    model.reset_states()"
   ]
  },
  {
   "cell_type": "code",
   "execution_count": 43,
   "metadata": {},
   "outputs": [],
   "source": [
    "preds = []\n",
    "for i in range(len(y_test)):\n",
    "    X_test_formatted = X_test[i].reshape(X_test[i].shape[0], 1, X_test[i].shape[1])\n",
    "    preds.append(model.predict(X_test_formatted)[0])\n",
    "    X_train_upd = np.append(X_train, X_test_formatted, axis=0)\n",
    "    y_train_upd = np.append(y_train, y_test[i])\n",
    "    model.fit(X_train_upd, y_train_upd, epochs=10, batch_size=1, verbose=0, shuffle=False)\n",
    "    model.reset_states()"
   ]
  },
  {
   "cell_type": "code",
   "execution_count": 44,
   "metadata": {},
   "outputs": [
    {
     "name": "stdout",
     "output_type": "stream",
     "text": [
      "RMSE: 8.38\n",
      "MAE: 6.80\n"
     ]
    }
   ],
   "source": [
    "preds_inv = np.concatenate((preds, X_test_orig), axis=1)\n",
    "preds_inv = scaler.inverse_transform(preds_inv)\n",
    "preds_inv = preds_inv[:,0]\n",
    "\n",
    "rmse = np.sqrt(mean_squared_error(y_inv, preds_inv))\n",
    "mae = mean_absolute_error(y_inv, preds_inv)\n",
    "print('RMSE: {:.2f}'.format(rmse))\n",
    "print('MAE: {:.2f}'.format(mae))"
   ]
  },
  {
   "cell_type": "code",
   "execution_count": null,
   "metadata": {},
   "outputs": [],
   "source": [
    "plt.rcParams['figure.figsize'] = (10, 5)\n",
    "fig, ax = plt.subplots()\n",
    "bar1 = ax.bar(x = np.arange(0, len(y_inv)) - .25, height=y_inv, width=.4, alpha = 0.8, label='actual')\n",
    "bar2 = ax.bar(x = np.arange(0, len(preds_inv)) + .25, height=preds_inv, width=.4, alpha = 0.8, label='predicted')\n",
    "ax.legend()\n",
    "plt.xlabel('Week (2012)')\n",
    "plt.ylabel('Fantasy Points')\n",
    "plt.title('Tom Brady Fantasy Points 2012, Predicted vs Actual (Iterative Training)')"
   ]
  },
  {
   "cell_type": "code",
   "execution_count": null,
   "metadata": {},
   "outputs": [],
   "source": []
  }
 ],
 "metadata": {
  "kernelspec": {
   "display_name": "conda_tensorflow_p27",
   "language": "python",
   "name": "conda_tensorflow_p27"
  },
  "language_info": {
   "codemirror_mode": {
    "name": "ipython",
    "version": 2
   },
   "file_extension": ".py",
   "mimetype": "text/x-python",
   "name": "python",
   "nbconvert_exporter": "python",
   "pygments_lexer": "ipython2",
   "version": "2.7.15"
  }
 },
 "nbformat": 4,
 "nbformat_minor": 2
}
