{
 "cells": [
  {
   "cell_type": "markdown",
   "metadata": {},
   "source": [
    "# Statistical Comparison of Model Results\n",
    "\n",
    "The purpose of this notebook is to do a statistical comparison of our baseline and final LSTM models, and our moving average baseline and final LSTM model. We want to see if the improvement (or lack thereof) of the final model is statistically significant."
   ]
  },
  {
   "cell_type": "code",
   "execution_count": 19,
   "metadata": {},
   "outputs": [],
   "source": [
    "import pickle\n",
    "from scipy.stats import ttest_rel, ttest_1samp"
   ]
  },
  {
   "cell_type": "markdown",
   "metadata": {},
   "source": [
    "### Tom Brady"
   ]
  },
  {
   "cell_type": "code",
   "execution_count": 9,
   "metadata": {},
   "outputs": [],
   "source": [
    "baseline_lstm = pickle.load(open('../data/prediction_outputs/brady_baseline_lstm_maes', 'rb'))\n",
    "final_lstm = pickle.load(open('../data/prediction_outputs/brady_final_lstm_maes', 'rb'))\n",
    "\n",
    "# Just hard code moving average predicition from notebook 9\n",
    "baseline_moving_avg = 6.33"
   ]
  },
  {
   "cell_type": "code",
   "execution_count": 10,
   "metadata": {},
   "outputs": [
    {
     "data": {
      "text/plain": [
       "Ttest_relResult(statistic=0.15614082616081498, pvalue=0.8772279809123487)"
      ]
     },
     "execution_count": 10,
     "metadata": {},
     "output_type": "execute_result"
    }
   ],
   "source": [
    "# Baseline LSTM vs Final LSTM\n",
    "ttest_rel(baseline_lstm, final_lstm)"
   ]
  },
  {
   "cell_type": "code",
   "execution_count": 12,
   "metadata": {},
   "outputs": [
    {
     "data": {
      "text/plain": [
       "Ttest_1sampResult(statistic=-18.682585428721616, pvalue=8.357846176167805e-16)"
      ]
     },
     "execution_count": 12,
     "metadata": {},
     "output_type": "execute_result"
    }
   ],
   "source": [
    "# Moving Average vs Final LSTM\n",
    "ttest_1samp(final_lstm, baseline_moving_avg)"
   ]
  },
  {
   "cell_type": "markdown",
   "metadata": {},
   "source": [
    "### LeSean McCoy"
   ]
  },
  {
   "cell_type": "code",
   "execution_count": 15,
   "metadata": {},
   "outputs": [],
   "source": [
    "baseline_lstm = pickle.load(open('../data/prediction_outputs/mccoy_baseline_lstm_maes', 'rb'))\n",
    "final_lstm = pickle.load(open('../data/prediction_outputs/mccoy_final_lstm_maes', 'rb'))\n",
    "\n",
    "# Just hard code moving average predicition from notebook 9\n",
    "baseline_moving_avg = 2.65"
   ]
  },
  {
   "cell_type": "code",
   "execution_count": 16,
   "metadata": {
    "scrolled": true
   },
   "outputs": [
    {
     "data": {
      "text/plain": [
       "Ttest_relResult(statistic=0.7606351166456052, pvalue=0.45428365562650797)"
      ]
     },
     "execution_count": 16,
     "metadata": {},
     "output_type": "execute_result"
    }
   ],
   "source": [
    "# Baseline LSTM vs Final LSTM\n",
    "ttest_rel(baseline_lstm, final_lstm)"
   ]
  },
  {
   "cell_type": "code",
   "execution_count": 17,
   "metadata": {},
   "outputs": [
    {
     "data": {
      "text/plain": [
       "Ttest_1sampResult(statistic=5.0924003957101895, pvalue=3.28967842139192e-05)"
      ]
     },
     "execution_count": 17,
     "metadata": {},
     "output_type": "execute_result"
    }
   ],
   "source": [
    "# Moving Average vs Final LSTM\n",
    "ttest_1samp(final_lstm, baseline_moving_avg)"
   ]
  }
 ],
 "metadata": {
  "kernelspec": {
   "display_name": "venv_fantasy",
   "language": "python",
   "name": "venv_fantasy"
  },
  "language_info": {
   "codemirror_mode": {
    "name": "ipython",
    "version": 3
   },
   "file_extension": ".py",
   "mimetype": "text/x-python",
   "name": "python",
   "nbconvert_exporter": "python",
   "pygments_lexer": "ipython3",
   "version": "3.7.3"
  }
 },
 "nbformat": 4,
 "nbformat_minor": 2
}
