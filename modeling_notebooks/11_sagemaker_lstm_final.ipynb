{
 "cells": [
  {
   "cell_type": "markdown",
   "metadata": {},
   "source": [
    "Use kernal conda_tensorflow_p36"
   ]
  },
  {
   "cell_type": "code",
   "execution_count": 1,
   "metadata": {},
   "outputs": [
    {
     "name": "stderr",
     "output_type": "stream",
     "text": [
      "Using TensorFlow backend.\n"
     ]
    }
   ],
   "source": [
    "import matplotlib.pyplot as plt\n",
    "import numpy as np\n",
    "import pandas as pd\n",
    "from sklearn.preprocessing import MinMaxScaler\n",
    "from sklearn.metrics import mean_squared_error, mean_absolute_error\n",
    "from keras.models import Sequential\n",
    "from keras.layers import Dense, Dropout, LSTM\n",
    "\n",
    "plt.style.use('ggplot')"
   ]
  },
  {
   "cell_type": "markdown",
   "metadata": {},
   "source": [
    "## Tom Brady"
   ]
  },
  {
   "cell_type": "code",
   "execution_count": 4,
   "metadata": {},
   "outputs": [],
   "source": [
    "# Read in data\n",
    "brady = pd.read_csv('../data/data_final/final/features_raw/brady.csv')\n",
    "\n",
    "# Select features for RNN, along with target. Specifically, remove averages.\n",
    "features = [\n",
    "    'target',\n",
    "    'player_home',\n",
    "    'betting_over_under_line',\n",
    "    'betting_spread',\n",
    "    'weather_temperature',\n",
    "    'weather_wind_mph',\n",
    "    'weather_humidity',\n",
    "    'weather_inclement',\n",
    "    'defense_fumbles_forced_moving_avg_1',\n",
    "    'defense_interceptions_moving_avg_1',\n",
    "    'defense_pass_yards_allowed_moving_avg_1',\n",
    "    'defense_rush_yards_allowed_moving_avg_1',\n",
    "    'defense_sacks_moving_avg_1',\n",
    "    'defense_points_allowed_moving_avg_1',\n",
    "    'twitter_count_opponent_swing_1_3',\n",
    "    'twitter_count_player_swing_1_3',\n",
    "    'twitter_net_sentiment_opponent_swing_1_3',\n",
    "    'twitter_net_sentiment_player_swing_1_3',\n",
    "    'twitter_opponent_net_sentiment',\n",
    "    'twitter_opponent_pct_neutral',\n",
    "    'twitter_pct_neutral_opponent_swing_1_3',\n",
    "    'twitter_pct_neutral_player_swing_1_3',\n",
    "    'twitter_pct_opponent_tweets',\n",
    "    'twitter_pct_player_tweets',\n",
    "    'twitter_player_net_sentiment',\n",
    "    'twitter_player_pct_neutral'\n",
    "    \n",
    "]\n",
    "\n",
    "brady = brady.loc[:, features]"
   ]
  },
  {
   "cell_type": "code",
   "execution_count": 6,
   "metadata": {},
   "outputs": [],
   "source": [
    "# For each column in X, replace NaNs with training set naive Bayes\n",
    "def replace_nans_mean(df, split):\n",
    "    df_cp = df.copy()\n",
    "    for col in df_cp.columns:\n",
    "        naive_estimate = df_cp.loc[:split, col].mean()\n",
    "        df_cp.loc[pd.isnull(df_cp[col]), col] = naive_estimate\n",
    "        \n",
    "    return df_cp\n",
    "        \n",
    "brady = replace_nans_mean(brady, 32)"
   ]
  },
  {
   "cell_type": "code",
   "execution_count": 7,
   "metadata": {},
   "outputs": [],
   "source": [
    "# Scale Features\n",
    "scaler = MinMaxScaler()\n",
    "scaler.fit(brady)\n",
    "brady = scaler.transform(brady)\n",
    "\n",
    "# Split into X and y\n",
    "X, y = brady[:,1:], brady[:,0]\n",
    "\n",
    "# Make training and test sets\n",
    "X_train, X_test, y_train, y_test = X[:32,:], X[32:,:], y[:32], y[32:]"
   ]
  },
  {
   "cell_type": "code",
   "execution_count": 8,
   "metadata": {},
   "outputs": [],
   "source": [
    "# Reshape data to RNN's expected format\n",
    "X_train = X_train.reshape((X_train.shape[0], 1, X_train.shape[1]))\n",
    "X_test = X_test.reshape((X_test.shape[0], 1, X_test.shape[1]))"
   ]
  },
  {
   "cell_type": "code",
   "execution_count": 9,
   "metadata": {},
   "outputs": [
    {
     "name": "stderr",
     "output_type": "stream",
     "text": [
      "WARNING: Logging before flag parsing goes to stderr.\n",
      "W1104 07:15:02.008042 139823621031744 deprecation_wrapper.py:119] From /home/ec2-user/anaconda3/envs/tensorflow_p36/lib/python3.6/site-packages/keras/backend/tensorflow_backend.py:74: The name tf.get_default_graph is deprecated. Please use tf.compat.v1.get_default_graph instead.\n",
      "\n",
      "W1104 07:15:02.028510 139823621031744 deprecation_wrapper.py:119] From /home/ec2-user/anaconda3/envs/tensorflow_p36/lib/python3.6/site-packages/keras/backend/tensorflow_backend.py:517: The name tf.placeholder is deprecated. Please use tf.compat.v1.placeholder instead.\n",
      "\n",
      "W1104 07:15:02.031068 139823621031744 deprecation_wrapper.py:119] From /home/ec2-user/anaconda3/envs/tensorflow_p36/lib/python3.6/site-packages/keras/backend/tensorflow_backend.py:4138: The name tf.random_uniform is deprecated. Please use tf.random.uniform instead.\n",
      "\n",
      "W1104 07:15:02.356615 139823621031744 deprecation_wrapper.py:119] From /home/ec2-user/anaconda3/envs/tensorflow_p36/lib/python3.6/site-packages/keras/optimizers.py:790: The name tf.train.Optimizer is deprecated. Please use tf.compat.v1.train.Optimizer instead.\n",
      "\n"
     ]
    }
   ],
   "source": [
    "# Build network\n",
    "model = Sequential()\n",
    "model.add(LSTM(50, input_shape=(X_train.shape[1], X_train.shape[2])))\n",
    "model.add(Dense(1))\n",
    "model.compile(loss='mse', optimizer='adam')"
   ]
  },
  {
   "cell_type": "code",
   "execution_count": 10,
   "metadata": {
    "scrolled": true
   },
   "outputs": [
    {
     "name": "stderr",
     "output_type": "stream",
     "text": [
      "W1104 07:15:05.137312 139823621031744 deprecation.py:323] From /home/ec2-user/anaconda3/envs/tensorflow_p36/lib/python3.6/site-packages/tensorflow/python/ops/math_grad.py:1250: add_dispatch_support.<locals>.wrapper (from tensorflow.python.ops.array_ops) is deprecated and will be removed in a future version.\n",
      "Instructions for updating:\n",
      "Use tf.where in 2.0, which has the same broadcast rule as np.where\n",
      "W1104 07:15:05.619683 139823621031744 deprecation_wrapper.py:119] From /home/ec2-user/anaconda3/envs/tensorflow_p36/lib/python3.6/site-packages/keras/backend/tensorflow_backend.py:986: The name tf.assign_add is deprecated. Please use tf.compat.v1.assign_add instead.\n",
      "\n",
      "W1104 07:15:05.702099 139823621031744 deprecation_wrapper.py:119] From /home/ec2-user/anaconda3/envs/tensorflow_p36/lib/python3.6/site-packages/keras/backend/tensorflow_backend.py:973: The name tf.assign is deprecated. Please use tf.compat.v1.assign instead.\n",
      "\n"
     ]
    },
    {
     "name": "stdout",
     "output_type": "stream",
     "text": [
      "Train on 32 samples, validate on 15 samples\n",
      "Epoch 1/50\n",
      " - 2s - loss: 0.2827 - val_loss: 0.2456\n",
      "Epoch 2/50\n",
      " - 0s - loss: 0.2201 - val_loss: 0.1777\n",
      "Epoch 3/50\n",
      " - 0s - loss: 0.1659 - val_loss: 0.1242\n",
      "Epoch 4/50\n",
      " - 0s - loss: 0.1245 - val_loss: 0.0864\n",
      "Epoch 5/50\n",
      " - 0s - loss: 0.0963 - val_loss: 0.0635\n",
      "Epoch 6/50\n",
      " - 0s - loss: 0.0804 - val_loss: 0.0531\n",
      "Epoch 7/50\n",
      " - 0s - loss: 0.0744 - val_loss: 0.0518\n",
      "Epoch 8/50\n",
      " - 0s - loss: 0.0750 - val_loss: 0.0553\n",
      "Epoch 9/50\n",
      " - 0s - loss: 0.0784 - val_loss: 0.0594\n",
      "Epoch 10/50\n",
      " - 0s - loss: 0.0816 - val_loss: 0.0618\n",
      "Epoch 11/50\n",
      " - 0s - loss: 0.0828 - val_loss: 0.0618\n",
      "Epoch 12/50\n",
      " - 0s - loss: 0.0819 - val_loss: 0.0600\n",
      "Epoch 13/50\n",
      " - 0s - loss: 0.0797 - val_loss: 0.0575\n",
      "Epoch 14/50\n",
      " - 0s - loss: 0.0771 - val_loss: 0.0552\n",
      "Epoch 15/50\n",
      " - 0s - loss: 0.0747 - val_loss: 0.0536\n",
      "Epoch 16/50\n",
      " - 0s - loss: 0.0729 - val_loss: 0.0526\n",
      "Epoch 17/50\n",
      " - 0s - loss: 0.0716 - val_loss: 0.0521\n",
      "Epoch 18/50\n",
      " - 0s - loss: 0.0706 - val_loss: 0.0519\n",
      "Epoch 19/50\n",
      " - 0s - loss: 0.0699 - val_loss: 0.0519\n",
      "Epoch 20/50\n",
      " - 0s - loss: 0.0693 - val_loss: 0.0519\n",
      "Epoch 21/50\n",
      " - 0s - loss: 0.0687 - val_loss: 0.0521\n",
      "Epoch 22/50\n",
      " - 0s - loss: 0.0681 - val_loss: 0.0523\n",
      "Epoch 23/50\n",
      " - 0s - loss: 0.0676 - val_loss: 0.0526\n",
      "Epoch 24/50\n",
      " - 0s - loss: 0.0672 - val_loss: 0.0529\n",
      "Epoch 25/50\n",
      " - 0s - loss: 0.0669 - val_loss: 0.0533\n",
      "Epoch 26/50\n",
      " - 0s - loss: 0.0665 - val_loss: 0.0537\n",
      "Epoch 27/50\n",
      " - 0s - loss: 0.0662 - val_loss: 0.0540\n",
      "Epoch 28/50\n",
      " - 0s - loss: 0.0659 - val_loss: 0.0542\n",
      "Epoch 29/50\n",
      " - 0s - loss: 0.0655 - val_loss: 0.0544\n",
      "Epoch 30/50\n",
      " - 0s - loss: 0.0651 - val_loss: 0.0545\n",
      "Epoch 31/50\n",
      " - 0s - loss: 0.0646 - val_loss: 0.0546\n",
      "Epoch 32/50\n",
      " - 0s - loss: 0.0642 - val_loss: 0.0546\n",
      "Epoch 33/50\n",
      " - 0s - loss: 0.0637 - val_loss: 0.0547\n",
      "Epoch 34/50\n",
      " - 0s - loss: 0.0633 - val_loss: 0.0548\n",
      "Epoch 35/50\n",
      " - 0s - loss: 0.0628 - val_loss: 0.0550\n",
      "Epoch 36/50\n",
      " - 0s - loss: 0.0624 - val_loss: 0.0552\n",
      "Epoch 37/50\n",
      " - 0s - loss: 0.0620 - val_loss: 0.0554\n",
      "Epoch 38/50\n",
      " - 0s - loss: 0.0616 - val_loss: 0.0556\n",
      "Epoch 39/50\n",
      " - 0s - loss: 0.0613 - val_loss: 0.0558\n",
      "Epoch 40/50\n",
      " - 0s - loss: 0.0609 - val_loss: 0.0561\n",
      "Epoch 41/50\n",
      " - 0s - loss: 0.0606 - val_loss: 0.0563\n",
      "Epoch 42/50\n",
      " - 0s - loss: 0.0602 - val_loss: 0.0566\n",
      "Epoch 43/50\n",
      " - 0s - loss: 0.0599 - val_loss: 0.0568\n",
      "Epoch 44/50\n",
      " - 0s - loss: 0.0595 - val_loss: 0.0570\n",
      "Epoch 45/50\n",
      " - 0s - loss: 0.0592 - val_loss: 0.0573\n",
      "Epoch 46/50\n",
      " - 0s - loss: 0.0589 - val_loss: 0.0575\n",
      "Epoch 47/50\n",
      " - 0s - loss: 0.0585 - val_loss: 0.0577\n",
      "Epoch 48/50\n",
      " - 0s - loss: 0.0582 - val_loss: 0.0580\n",
      "Epoch 49/50\n",
      " - 0s - loss: 0.0579 - val_loss: 0.0582\n",
      "Epoch 50/50\n",
      " - 0s - loss: 0.0576 - val_loss: 0.0584\n"
     ]
    }
   ],
   "source": [
    "# Fit network\n",
    "lstm_model = model.fit(X_train, y_train, epochs=50, batch_size=12, validation_data=(X_test, y_test), verbose=2, shuffle=False)\n"
   ]
  },
  {
   "cell_type": "code",
   "execution_count": 11,
   "metadata": {},
   "outputs": [
    {
     "data": {
      "image/png": "[encoded data removed]",
      "text/plain": [
       "<Figure size 720x360 with 1 Axes>"
      ]
     },
     "metadata": {},
     "output_type": "display_data"
    }
   ],
   "source": [
    "plt.rcParams['figure.figsize'] = (10, 5)\n",
    "\n",
    "plt.plot(lstm_model.history['loss'], label='train')\n",
    "plt.plot(lstm_model.history['val_loss'], label='test')\n",
    "plt.legend()\n",
    "plt.xlabel('epoch')\n",
    "plt.ylabel('loss')\n",
    "plt.show()"
   ]
  },
  {
   "cell_type": "code",
   "execution_count": 12,
   "metadata": {},
   "outputs": [],
   "source": [
    "# Make predictions for test set\n",
    "preds = model.predict(X_test)\n",
    "X_test_orig = X_test.reshape((X_test.shape[0], X_test.shape[2]))"
   ]
  },
  {
   "cell_type": "code",
   "execution_count": 13,
   "metadata": {},
   "outputs": [],
   "source": [
    "# Invert scaling for preds\n",
    "preds_inv = np.concatenate((preds, X_test_orig), axis=1)\n",
    "preds_inv = scaler.inverse_transform(preds_inv)\n",
    "preds_inv = preds_inv[:,0]"
   ]
  },
  {
   "cell_type": "code",
   "execution_count": 14,
   "metadata": {},
   "outputs": [],
   "source": [
    "# Invert scaling for actuals\n",
    "y_test_orig = y_test.reshape((len(y_test), 1))\n",
    "y_inv = np.concatenate((y_test_orig, X_test_orig), axis=1)\n",
    "y_inv = scaler.inverse_transform(y_inv)\n",
    "y_inv = y_inv[:,0]"
   ]
  },
  {
   "cell_type": "code",
   "execution_count": 15,
   "metadata": {},
   "outputs": [
    {
     "name": "stdout",
     "output_type": "stream",
     "text": [
      "RMSE: 5.93\n",
      "MAE: 5.20\n"
     ]
    }
   ],
   "source": [
    "# Calculate RMSE and MAE\n",
    "rmse = np.sqrt(mean_squared_error(y_inv, preds_inv))\n",
    "mae = mean_absolute_error(y_inv, preds_inv)\n",
    "print('RMSE: {:.2f}'.format(rmse))\n",
    "print('MAE: {:.2f}'.format(mae))"
   ]
  },
  {
   "cell_type": "code",
   "execution_count": 17,
   "metadata": {},
   "outputs": [
    {
     "data": {
      "text/plain": [
       "Text(0.5, 1.0, 'Tom Brady Fantasy Points 2012, Predicted vs Actual')"
      ]
     },
     "execution_count": 17,
     "metadata": {},
     "output_type": "execute_result"
    },
    {
     "data": {
      "image/png": "[encoded data removed]",
      "text/plain": [
       "<Figure size 720x360 with 1 Axes>"
      ]
     },
     "metadata": {},
     "output_type": "display_data"
    }
   ],
   "source": [
    "plt.rcParams['figure.figsize'] = (10, 5)\n",
    "fig, ax = plt.subplots()\n",
    "bar1 = ax.bar(x = np.arange(0, len(y_inv)) - .25, height=y_inv, width=.4, alpha = 0.8, label='actual')\n",
    "bar2 = ax.bar(x = np.arange(0, len(preds_inv)) + .25, height=preds_inv, width=.4, alpha = 0.8, label='predicted')\n",
    "ax.legend()\n",
    "plt.xlabel('Week (2012)')\n",
    "plt.ylabel('Fantasy Points')\n",
    "plt.title('Tom Brady Fantasy Points 2012, Predicted vs Actual')"
   ]
  },
  {
   "cell_type": "markdown",
   "metadata": {},
   "source": [
    "##### Iterative Training"
   ]
  },
  {
   "cell_type": "code",
   "execution_count": 18,
   "metadata": {},
   "outputs": [],
   "source": [
    "# Rebuild network for iterative training - stateful model with one batch\n",
    "model = Sequential()\n",
    "model.add(LSTM(50, batch_input_shape=(1, X_train.shape[1], X_train.shape[2]), stateful=True))\n",
    "model.add(Dense(1))\n",
    "model.compile(loss='mse', optimizer='adam')\n",
    "\n",
    "for i in range(50):\n",
    "    model.fit(X_train, y_train, epochs=1, batch_size=1, verbose=0, shuffle=False)\n",
    "    model.reset_states()"
   ]
  },
  {
   "cell_type": "code",
   "execution_count": 19,
   "metadata": {},
   "outputs": [],
   "source": [
    "preds = []\n",
    "for i in range(len(y_test)):\n",
    "    X_test_formatted = X_test[i].reshape(X_test[i].shape[0], 1, X_test[i].shape[1])\n",
    "    preds.append(model.predict(X_test_formatted)[0])\n",
    "    X_train_upd = np.append(X_train, X_test_formatted, axis=0)\n",
    "    y_train_upd = np.append(y_train, y_test[i])\n",
    "    model.fit(X_train_upd, y_train_upd, epochs=10, batch_size=1, verbose=0, shuffle=False)\n",
    "    model.reset_states()"
   ]
  },
  {
   "cell_type": "code",
   "execution_count": 20,
   "metadata": {},
   "outputs": [
    {
     "name": "stdout",
     "output_type": "stream",
     "text": [
      "RMSE: 9.30\n",
      "MAE: 7.31\n"
     ]
    }
   ],
   "source": [
    "preds_inv = np.concatenate((preds, X_test_orig), axis=1)\n",
    "preds_inv = scaler.inverse_transform(preds_inv)\n",
    "preds_inv = preds_inv[:,0]\n",
    "\n",
    "rmse = np.sqrt(mean_squared_error(y_inv, preds_inv))\n",
    "mae = mean_absolute_error(y_inv, preds_inv)\n",
    "print('RMSE: {:.2f}'.format(rmse))\n",
    "print('MAE: {:.2f}'.format(mae))"
   ]
  },
  {
   "cell_type": "code",
   "execution_count": null,
   "metadata": {},
   "outputs": [],
   "source": [
    "plt.rcParams['figure.figsize'] = (10, 5)\n",
    "fig, ax = plt.subplots()\n",
    "bar1 = ax.bar(x = np.arange(0, len(y_inv)) - .25, height=y_inv, width=.4, alpha = 0.8, label='actual')\n",
    "bar2 = ax.bar(x = np.arange(0, len(preds_inv)) + .25, height=preds_inv, width=.4, alpha = 0.8, label='predicted')\n",
    "ax.legend()\n",
    "plt.xlabel('Week (2012)')\n",
    "plt.ylabel('Fantasy Points')\n",
    "plt.title('Tom Brady Fantasy Points 2012, Predicted vs Actual (Iterative Training)')"
   ]
  },
  {
   "cell_type": "code",
   "execution_count": null,
   "metadata": {},
   "outputs": [],
   "source": []
  }
 ],
 "metadata": {
  "kernelspec": {
   "display_name": "conda_tensorflow_p36",
   "language": "python",
   "name": "conda_tensorflow_p36"
  },
  "language_info": {
   "codemirror_mode": {
    "name": "ipython",
    "version": 3
   },
   "file_extension": ".py",
   "mimetype": "text/x-python",
   "name": "python",
   "nbconvert_exporter": "python",
   "pygments_lexer": "ipython3",
   "version": "3.6.5"
  }
 },
 "nbformat": 4,
 "nbformat_minor": 2
}
