{
 "cells": [
  {
   "cell_type": "markdown",
   "metadata": {},
   "source": [
    "#### Opponents' Defense\n",
    "\n",
    "Primary task in this notebook is to ensure consistency of abbreviations between defense and players dataframes."
   ]
  },
  {
   "cell_type": "code",
   "execution_count": 1,
   "metadata": {},
   "outputs": [],
   "source": [
    "import os\n",
    "import pandas as pd"
   ]
  },
  {
   "cell_type": "code",
   "execution_count": 2,
   "metadata": {},
   "outputs": [],
   "source": [
    "# Read in  player data\n",
    "players = {}\n",
    "path = '../data/data_modified/players'\n",
    "for file in os.listdir(path):\n",
    "    if file.split('.')[1]=='csv':\n",
    "        players[file.split('.')[0]] = pd.read_csv(os.path.join(path,file))\n"
   ]
  },
  {
   "cell_type": "code",
   "execution_count": 3,
   "metadata": {},
   "outputs": [
    {
     "data": {
      "text/html": [
       "<div>\n",
       "<style scoped>\n",
       "    .dataframe tbody tr th:only-of-type {\n",
       "        vertical-align: middle;\n",
       "    }\n",
       "\n",
       "    .dataframe tbody tr th {\n",
       "        vertical-align: top;\n",
       "    }\n",
       "\n",
       "    .dataframe thead th {\n",
       "        text-align: right;\n",
       "    }\n",
       "</style>\n",
       "<table border=\"1\" class=\"dataframe\">\n",
       "  <thead>\n",
       "    <tr style=\"text-align: right;\">\n",
       "      <th></th>\n",
       "      <th>team</th>\n",
       "      <th>date</th>\n",
       "      <th>fumbles_forced</th>\n",
       "      <th>interceptions</th>\n",
       "      <th>pass_yards_allowed</th>\n",
       "      <th>rush_yards_allowed</th>\n",
       "      <th>sacks</th>\n",
       "      <th>points_allowed</th>\n",
       "    </tr>\n",
       "  </thead>\n",
       "  <tbody>\n",
       "    <tr>\n",
       "      <th>0</th>\n",
       "      <td>NWE</td>\n",
       "      <td>9/12/10</td>\n",
       "      <td>1</td>\n",
       "      <td>1</td>\n",
       "      <td>345</td>\n",
       "      <td>87</td>\n",
       "      <td>1</td>\n",
       "      <td>24</td>\n",
       "    </tr>\n",
       "    <tr>\n",
       "      <th>1</th>\n",
       "      <td>NWE</td>\n",
       "      <td>9/19/10</td>\n",
       "      <td>0</td>\n",
       "      <td>0</td>\n",
       "      <td>220</td>\n",
       "      <td>136</td>\n",
       "      <td>3</td>\n",
       "      <td>28</td>\n",
       "    </tr>\n",
       "    <tr>\n",
       "      <th>2</th>\n",
       "      <td>NWE</td>\n",
       "      <td>9/26/10</td>\n",
       "      <td>0</td>\n",
       "      <td>2</td>\n",
       "      <td>247</td>\n",
       "      <td>134</td>\n",
       "      <td>1</td>\n",
       "      <td>30</td>\n",
       "    </tr>\n",
       "    <tr>\n",
       "      <th>3</th>\n",
       "      <td>NWE</td>\n",
       "      <td>10/4/10</td>\n",
       "      <td>0</td>\n",
       "      <td>4</td>\n",
       "      <td>320</td>\n",
       "      <td>92</td>\n",
       "      <td>2</td>\n",
       "      <td>14</td>\n",
       "    </tr>\n",
       "    <tr>\n",
       "      <th>4</th>\n",
       "      <td>NWE</td>\n",
       "      <td>10/17/10</td>\n",
       "      <td>0</td>\n",
       "      <td>0</td>\n",
       "      <td>285</td>\n",
       "      <td>99</td>\n",
       "      <td>3</td>\n",
       "      <td>20</td>\n",
       "    </tr>\n",
       "  </tbody>\n",
       "</table>\n",
       "</div>"
      ],
      "text/plain": [
       "  team      date  fumbles_forced  interceptions  pass_yards_allowed  \\\n",
       "0  NWE   9/12/10               1              1                 345   \n",
       "1  NWE   9/19/10               0              0                 220   \n",
       "2  NWE   9/26/10               0              2                 247   \n",
       "3  NWE   10/4/10               0              4                 320   \n",
       "4  NWE  10/17/10               0              0                 285   \n",
       "\n",
       "   rush_yards_allowed  sacks  points_allowed  \n",
       "0                  87      1              24  \n",
       "1                 136      3              28  \n",
       "2                 134      1              30  \n",
       "3                  92      2              14  \n",
       "4                  99      3              20  "
      ]
     },
     "execution_count": 3,
     "metadata": {},
     "output_type": "execute_result"
    }
   ],
   "source": [
    "# Read in defense data\n",
    "defense = pd.read_csv('../data/data_raw/teams/defensive_stats.csv')\n",
    "defense.head()"
   ]
  },
  {
   "cell_type": "code",
   "execution_count": 4,
   "metadata": {},
   "outputs": [
    {
     "data": {
      "text/plain": [
       "17"
      ]
     },
     "execution_count": 4,
     "metadata": {},
     "output_type": "execute_result"
    }
   ],
   "source": [
    "# Check to make sure abbreviation conventions are the same\n",
    "players_abbrs = []\n",
    "for key, value in players.items():\n",
    "    players_abbrs.extend(value['opp'].tolist())\n",
    "\n",
    "sum(~pd.Series(players_abbrs).isin(defense['team'].unique()))"
   ]
  },
  {
   "cell_type": "code",
   "execution_count": 5,
   "metadata": {},
   "outputs": [
    {
     "name": "stdout",
     "output_type": "stream",
     "text": [
      "['TEN' 'IND' 'HOU' 'STL' 'ARI' 'BAL' 'OAK']\n",
      "['CLT' 'RAI' 'HTX' 'RAV' 'OTI' 'TAM' 'RAM' 'CRD' 'CAR']\n"
     ]
    }
   ],
   "source": [
    "# Figure out which cases are different\n",
    "print(pd.Series(players_abbrs).loc[~pd.Series(players_abbrs).isin(defense['team'].unique())].unique())\n",
    "print(pd.Series(defense['team'].unique()).loc[~pd.Series(defense['team'].unique()).isin(players_abbrs)].unique())"
   ]
  },
  {
   "cell_type": "code",
   "execution_count": 6,
   "metadata": {},
   "outputs": [
    {
     "data": {
      "text/plain": [
       "0"
      ]
     },
     "execution_count": 6,
     "metadata": {},
     "output_type": "execute_result"
    }
   ],
   "source": [
    "# Create mappings to convert inconsistent abbreviations. This is just based on domain knowledge.\n",
    "# Again, to scalably deploy this on multiple players we would need to automate this process.\n",
    "abbr_mappings = {\n",
    "    'OTI':'TEN',\n",
    "    'CLT':'IND',\n",
    "    'HTX':'HOU',\n",
    "    'RAM':'STL',\n",
    "    'CRD':'ARI',\n",
    "    'RAV':'BAL',\n",
    "    'RAI':'OAK'}\n",
    "defense.replace(abbr_mappings, inplace=True)\n",
    "sum(~pd.Series(players_abbrs).isin(defense['team'].unique()))"
   ]
  },
  {
   "cell_type": "code",
   "execution_count": 7,
   "metadata": {
    "scrolled": true
   },
   "outputs": [],
   "source": [
    "defense.to_csv('../data/data_modified/teams/defensive_stats.csv', index=False)"
   ]
  }
 ],
 "metadata": {
  "kernelspec": {
   "display_name": "venv_fantasy",
   "language": "python",
   "name": "venv_fantasy"
  },
  "language_info": {
   "codemirror_mode": {
    "name": "ipython",
    "version": 3
   },
   "file_extension": ".py",
   "mimetype": "text/x-python",
   "name": "python",
   "nbconvert_exporter": "python",
   "pygments_lexer": "ipython3",
   "version": "3.7.3"
  }
 },
 "nbformat": 4,
 "nbformat_minor": 2
}
