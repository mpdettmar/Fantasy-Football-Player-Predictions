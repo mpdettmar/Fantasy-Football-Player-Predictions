{
 "cells": [
  {
   "cell_type": "markdown",
   "metadata": {},
   "source": [
    "# Compile Raw Project Data"
   ]
  },
  {
   "cell_type": "markdown",
   "metadata": {},
   "source": [
    "This project uses data from four sources:\n",
    "\n",
    "1. Fantasy statisics for Tom Brady and LeSean McCoy from the 2010 - 2012 seasons. Downloaded by hand from profootballreference.com (\"Tom Brady NFL Fantasy Football Statistics\". Pro-Football-Reference.com. Retrieved October 19, 2019; \"LeSean McCoy NFL Fantasy Football Statistics\". Pro-Football-Reference.com. Retrieved October 19, 2019.) Located in ~/data/data_raw/players.\n",
    "\n",
    "2. Game data for all NFL games played since 1966. Used for weather features. Downloaded from Kaggle (spreadspoke (2019, August). NFL Scores and Betting Data. Retrieved October 19, 2019.). Located in ~/data/data_raw/games. \n",
    "\n",
    "3. Defensive numbers put up by every team for all games in the 2010 - 2012 seasons. Downloaded using the Python sportsreference API. Located in ~/data/data_raw/teams. \n",
    "\n",
    "4. NFL tweets from the 2010 - 2012 seasons. Downloaded from Sinha, et. al. ( Predicting the NFL using Twitter. Shiladitya Sinha, Chris Dyer, Kevin Gimpel, and Noah A. Smith. In Proceedings of the ECML/PKDD 2013 Workshop on Machine Learning and Data Mining for Sports Analytics, Prague, Czech Republic, September 2013.) Located in ~/data/data_raw/tweets_meta. \n",
    "\n",
    "    The former two datasets were manually downloaded and are available by default in the repository. The defensive data is also present in the repository, but was downloaded using the script located at ~/data_compilation/get_defensive_stats.py. Finally, the Twitter dataset is available in the repository, but it does not include any of the tweet text, per Twitter's terms of service. The script ~/data_compilation/pull_tweet_text.py will use the tweepy package to retrieve the text for each tweet and write it to the ~/data/data_raw/tweets_text folder. \n",
    "    \n",
    "All of this data will be required for the following notebooks. This notebook will execute the two scripts.\n"
   ]
  },
  {
   "cell_type": "code",
   "execution_count": 1,
   "metadata": {},
   "outputs": [
    {
     "name": "stdout",
     "output_type": "stream",
     "text": [
      "Traceback (most recent call last):\r\n",
      "  File \"../data_compilation/get_defensive_stats.py\", line 8, in <module>\r\n",
      "    teams = Teams(year)\r\n",
      "  File \"/usr/local/lib/python3.7/site-packages/sportsreference/nfl/teams.py\", line 505, in __init__\r\n",
      "    self._retrieve_all_teams(year)\r\n",
      "  File \"/usr/local/lib/python3.7/site-packages/sportsreference/nfl/teams.py\", line 634, in _retrieve_all_teams\r\n",
      "    doc = pq(SEASON_PAGE_URL % year)\r\n",
      "  File \"/usr/local/lib/python3.7/site-packages/pyquery/pyquery.py\", line 223, in __init__\r\n",
      "    html = url_opener(url, kwargs)\r\n",
      "  File \"/usr/local/lib/python3.7/site-packages/pyquery/openers.py\", line 78, in url_opener\r\n",
      "    return _requests(url, kwargs)\r\n",
      "  File \"/usr/local/lib/python3.7/site-packages/pyquery/openers.py\", line 63, in _requests\r\n",
      "    resp.reason, resp.headers, None)\r\n",
      "urllib.error.HTTPError: HTTP Error 404: Not Found\r\n"
     ]
    }
   ],
   "source": [
    "# Defensive Stats\n",
    "!python3 ../data_compilation/get_defensive_stats.py"
   ]
  },
  {
   "cell_type": "code",
   "execution_count": 2,
   "metadata": {},
   "outputs": [
    {
     "name": "stdout",
     "output_type": "stream",
     "text": [
      "  File \"../data_compilation/pull_tweet_text.py\", line 8\r\n",
      "    from __future__ import print_function\r\n",
      "    ^\r\n",
      "SyntaxError: from __future__ imports must occur at the beginning of the file\r\n"
     ]
    }
   ],
   "source": [
    "# Twitter Data\n",
    "!python3 ../data_compilation/pull_tweet_text.py"
   ]
  },
  {
   "cell_type": "code",
   "execution_count": null,
   "metadata": {},
   "outputs": [],
   "source": []
  }
 ],
 "metadata": {
  "kernelspec": {
   "display_name": "Python 3",
   "language": "python",
   "name": "python3"
  },
  "language_info": {
   "codemirror_mode": {
    "name": "ipython",
    "version": 3
   },
   "file_extension": ".py",
   "mimetype": "text/x-python",
   "name": "python",
   "nbconvert_exporter": "python",
   "pygments_lexer": "ipython3",
   "version": "3.7.3"
  }
 },
 "nbformat": 4,
 "nbformat_minor": 2
}
