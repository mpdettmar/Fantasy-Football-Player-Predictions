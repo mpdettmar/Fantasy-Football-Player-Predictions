{
 "cells": [
  {
   "cell_type": "code",
   "execution_count": 1,
   "metadata": {},
   "outputs": [
    {
     "name": "stdout",
     "output_type": "stream",
     "text": [
      "Running virtualenv with interpreter /usr/local/bin/python3\n",
      "Using base prefix '/usr/local/Cellar/python/3.7.3/Frameworks/Python.framework/Versions/3.7'\n",
      "New python executable in /Users/michaeldettmar/Desktop/cours/Udacity ML/capstone/Fantasy-Football-Player-Predictions/venv_py3/bin/python3.7\n",
      "Not overwriting existing python script /Users/michaeldettmar/Desktop/cours/Udacity ML/capstone/Fantasy-Football-Player-Predictions/venv_py3/bin/python (you must use /Users/michaeldettmar/Desktop/cours/Udacity ML/capstone/Fantasy-Football-Player-Predictions/venv_py3/bin/python3.7)\n",
      "Installing setuptools, pip, wheel...\n",
      "done.\n",
      "/bin/sh: - : invalid option\n",
      "Usage:\t/bin/sh [GNU long option] [option] ...\n",
      "\t/bin/sh [GNU long option] [option] script-file ...\n",
      "GNU long options:\n",
      "\t--debug\n",
      "\t--debugger\n",
      "\t--dump-po-strings\n",
      "\t--dump-strings\n",
      "\t--help\n",
      "\t--init-file\n",
      "\t--login\n",
      "\t--noediting\n",
      "\t--noprofile\n",
      "\t--norc\n",
      "\t--posix\n",
      "\t--protected\n",
      "\t--rcfile\n",
      "\t--restricted\n",
      "\t--verbose\n",
      "\t--version\n",
      "\t--wordexp\n",
      "Shell options:\n",
      "\t-irsD or -c command or -O shopt_option\t\t(invocation only)\n",
      "\t-abefhkmnptuvxBCHP or -o option\n"
     ]
    }
   ],
   "source": [
    "!virtualenv -p python3 ../venv_py3\n",
    "!source ../venv_py3/bin/activate\n",
    "!-m pip3 install -r ../requirements.txt"
   ]
  },
  {
   "cell_type": "code",
   "execution_count": 2,
   "metadata": {},
   "outputs": [
    {
     "name": "stdout",
     "output_type": "stream",
     "text": [
      "Installed kernelspec venv_fantasy in /Users/michaeldettmar/Library/Jupyter/kernels/venv_fantasy\r\n"
     ]
    }
   ],
   "source": [
    "!ipython kernel install --user --name=venv_fantasy"
   ]
  }
 ],
 "metadata": {
  "kernelspec": {
   "display_name": "Python 3",
   "language": "python",
   "name": "python3"
  },
  "language_info": {
   "codemirror_mode": {
    "name": "ipython",
    "version": 3
   },
   "file_extension": ".py",
   "mimetype": "text/x-python",
   "name": "python",
   "nbconvert_exporter": "python",
   "pygments_lexer": "ipython3",
   "version": "3.7.3"
  }
 },
 "nbformat": 4,
 "nbformat_minor": 2
}
