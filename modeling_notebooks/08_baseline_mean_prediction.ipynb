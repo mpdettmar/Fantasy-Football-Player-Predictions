{
 "cells": [
  {
   "cell_type": "code",
   "execution_count": 7,
   "metadata": {},
   "outputs": [],
   "source": [
    "import numpy as np\n",
    "import pandas as pd\n",
    "from sklearn.metrics import mean_squared_error, mean_absolute_error"
   ]
  },
  {
   "cell_type": "markdown",
   "metadata": {},
   "source": [
    "### Brady"
   ]
  },
  {
   "cell_type": "code",
   "execution_count": 14,
   "metadata": {},
   "outputs": [
    {
     "name": "stdout",
     "output_type": "stream",
     "text": [
      "RMSE: 6.32\n",
      " MAE: 5.46\n"
     ]
    }
   ],
   "source": [
    "brady = pd.read_csv('../data/data_final/final/features_raw/brady.csv')\n",
    "X, y = brady.iloc[:,1:], brady.iloc[:,0]\n",
    "X_train, X_test, y_train, y_test = X.iloc[:32,:], X.iloc[32:,:], y.iloc[:32], y.iloc[32:]\n",
    "preds = [y_train.mean()] * len(y_test)\n",
    "rmse = np.sqrt(mean_squared_error(y_test, preds))\n",
    "mae = mean_absolute_error(y_test, preds)\n",
    "print(\"RMSE: {:.2f}\\n MAE: {:.2f}\".format(rmse, mae))"
   ]
  },
  {
   "cell_type": "markdown",
   "metadata": {},
   "source": [
    "### McCoy"
   ]
  },
  {
   "cell_type": "code",
   "execution_count": 16,
   "metadata": {},
   "outputs": [
    {
     "name": "stdout",
     "output_type": "stream",
     "text": [
      "RMSE: 5.16\n",
      " MAE: 4.68\n"
     ]
    }
   ],
   "source": [
    "mccoy = pd.read_csv('../data/data_final/final/features_raw/mccoy.csv')\n",
    "X, y = mccoy.iloc[:,1:], mccoy.iloc[:,0]\n",
    "X_train, X_test, y_train, y_test = X.iloc[:30,:], X.iloc[30:,:], y.iloc[:30], y.iloc[30:]\n",
    "preds = [y_train.mean()] * len(y_test)\n",
    "rmse = np.sqrt(mean_squared_error(y_test, preds))\n",
    "mae = mean_absolute_error(y_test, preds)\n",
    "print(\"RMSE: {:.2f}\\n MAE: {:.2f}\".format(rmse, mae))"
   ]
  }
 ],
 "metadata": {
  "kernelspec": {
   "display_name": "venv_fantasy",
   "language": "python",
   "name": "venv_fantasy"
  },
  "language_info": {
   "codemirror_mode": {
    "name": "ipython",
    "version": 3
   },
   "file_extension": ".py",
   "mimetype": "text/x-python",
   "name": "python",
   "nbconvert_exporter": "python",
   "pygments_lexer": "ipython3",
   "version": "3.7.3"
  }
 },
 "nbformat": 4,
 "nbformat_minor": 2
}
